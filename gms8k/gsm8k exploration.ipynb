{
 "cells": [
  {
   "cell_type": "code",
   "execution_count": 1,
   "id": "ca961c2e-018b-40a7-a56a-6dd60a6fff77",
   "metadata": {},
   "outputs": [],
   "source": [
    "import pandas as pd\n",
    "\n",
    "splits = {'train': 'main/train-00000-of-00001.parquet', 'test': 'main/test-00000-of-00001.parquet'}\n",
    "df = pd.read_parquet(\"hf://datasets/openai/gsm8k/\" + splits[\"train\"])"
   ]
  },
  {
   "cell_type": "code",
   "execution_count": 3,
   "id": "a3d432c2-8ab6-4b92-a856-c56f9e2f260b",
   "metadata": {},
   "outputs": [],
   "source": [
    "names = list(set(open(\"names.txt\").read().split(\", \")))"
   ]
  },
  {
   "cell_type": "code",
   "execution_count": 4,
   "id": "8c918ec9-fde6-4028-a861-6962e42197d9",
   "metadata": {},
   "outputs": [],
   "source": [
    "import random\n",
    "\n",
    "def change_question(question):\n",
    "    sentences = question.split(\". \")\n",
    "    sentences.insert(-1, irrelevant_sentence(question))\n",
    "    return sentences.join(\". \")\n",
    "\n",
    "topic_templates = {}\n",
    "\n",
    "characters = [\"father\", \"sister\", \"mother\", \"brother\", \"neighbor\", \"friend\", \"uncle\", \"aunt\"]\n",
    "\n",
    "def irrelevant_sentence(\n",
    "    question, \n",
    "    topic,\n",
    "    role_overlap, \n",
    "    in_number_range\n",
    "):\n",
    "    words = question.split()\n",
    "\n",
    "    roles = [i for i in words if i in names]\n",
    "    if not roles:\n",
    "        return topic\n",
    "    if role_overlap:\n",
    "        role = f\"{random.choice(roles)}'s {random.choice(characters)}\"\n",
    "    else:\n",
    "        role = random.choice(roles)\n",
    "    \n",
    "    numbers = [int(i) for i in words if i.isdigit()]\n",
    "    number_range = range(min(numbers), max(numbers) + 1)\n",
    "\n",
    "    if in_number_range:\n",
    "        number = random.choice(in_number_range)\n",
    "    else:\n",
    "        big_numbers = range(max(numbers) * 10 + 1, 10000)\n",
    "        number = random.choice(big_numbers)\n",
    "        \n",
    "    return topic.format(ROLE=role, NUMBER=number)\n",
    "    "
   ]
  }
 ],
 "metadata": {
  "kernelspec": {
   "display_name": "Python 3 (ipykernel)",
   "language": "python",
   "name": "python3"
  },
  "language_info": {
   "codemirror_mode": {
    "name": "ipython",
    "version": 3
   },
   "file_extension": ".py",
   "mimetype": "text/x-python",
   "name": "python",
   "nbconvert_exporter": "python",
   "pygments_lexer": "ipython3",
   "version": "3.12.0"
  }
 },
 "nbformat": 4,
 "nbformat_minor": 5
}
