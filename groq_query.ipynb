{
 "cells": [
  {
   "cell_type": "code",
   "execution_count": 1,
   "id": "initial_id",
   "metadata": {
    "ExecuteTime": {
     "end_time": "2024-11-14T22:59:43.733867Z",
     "start_time": "2024-11-14T22:59:42.903646Z"
    }
   },
   "outputs": [],
   "source": [
    "import os\n",
    "import json\n",
    "from groq import Groq\n",
    "from openai import OpenAI"
   ]
  },
  {
   "cell_type": "code",
   "execution_count": 2,
   "id": "12622f39170ff809",
   "metadata": {
    "ExecuteTime": {
     "end_time": "2024-11-14T22:59:43.975403Z",
     "start_time": "2024-11-14T22:59:43.741071Z"
    }
   },
   "outputs": [],
   "source": [
    "#open dataset and store it as a JSON object\n",
    "with open('../GSM-IC/GSM-IC_mstep.json', 'r') as file:\n",
    "    questions = json.load(file)"
   ]
  },
  {
   "cell_type": "code",
   "execution_count": 3,
   "id": "3c27539b0e66fc4a",
   "metadata": {
    "ExecuteTime": {
     "end_time": "2024-11-14T22:59:44.559901Z",
     "start_time": "2024-11-14T22:59:44.550873Z"
    }
   },
   "outputs": [
    {
     "data": {
      "text/plain": [
       "{'original_question': 'Officer Hopps has to give out 200 tickets in May. The first 15 days he averages 8 tickets a day. How many does he have to average each day for the rest of the month to reach his required goal?',\n",
       " 'answer': '5',\n",
       " 'new_question': \"Officer Hopps has to give out 200 tickets in May. The first 15 days he averages 8 tickets a day. Officer Hopps' mother bought 200 bus tickets in Feburary. How many does he have to average each day for the rest of the month to reach his required goal?\",\n",
       " 'n_steps': 4,\n",
       " 'role': \"Officer Hopps' mother\",\n",
       " 'number': '200',\n",
       " 'sentence_template': '{role} bought {number} bus tickets in Feburary.',\n",
       " 'role_label': 'overlapped',\n",
       " 'number_label': 'in_range',\n",
       " 'sentence_label': 'in_topic'}"
      ]
     },
     "execution_count": 3,
     "metadata": {},
     "output_type": "execute_result"
    }
   ],
   "source": [
    "#example of an entry in the dataset\n",
    "#todo: what's the point of all the keys under 'n_steps'?\n",
    "questions[0]"
   ]
  },
  {
   "cell_type": "code",
   "execution_count": 4,
   "id": "201da739b16f97e3",
   "metadata": {
    "ExecuteTime": {
     "end_time": "2024-11-14T22:59:45.030459Z",
     "start_time": "2024-11-14T22:59:44.647113Z"
    }
   },
   "outputs": [],
   "source": [
    "#initialize the Groq client. This allows us to query Llama3 (or another model) from my Groq account\n",
    "#todo: store the api_key in a secure way!\n",
    "# client = Groq(\n",
    "#     # api_key=os.environ.get(\"GROQ_API_KEY\")\n",
    "#     api_key='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'\n",
    "# )\n",
    "client = OpenAI(api_key=open(\"api.txt\").read())"
   ]
  },
  {
   "cell_type": "code",
   "execution_count": 5,
   "id": "e534e19014b21362",
   "metadata": {
    "ExecuteTime": {
     "end_time": "2024-11-14T22:59:45.049503Z",
     "start_time": "2024-11-14T22:59:45.043483Z"
    }
   },
   "outputs": [],
   "source": [
    "#todo: 1. answer_prompt is the current way of forcing the model to output its answer in predictable format. Find a better way to extract the numerical answer from the model's output. (maybe: require JSON output)\n",
    "\n",
    "#todo: 2. clean up the answer. Ex. remove $, %, inches, etc. \n",
    "\n",
    "def single_query(query):\n",
    "    \"\"\"\n",
    "    query the model with a single question\n",
    "    input: what you would type in the chat box to ask the model a question\n",
    "    output: the model's output in response to your query \n",
    "    \"\"\"\n",
    "\n",
    "    \n",
    "    answer_prompt='The last sentence of your response must be in the form \"The answer is [your answer]\".'\n",
    "    chat_completion = client.chat.completions.create(\n",
    "    messages=[\n",
    "        {\n",
    "            \"role\": \"user\",\n",
    "            \"content\": query + answer_prompt,\n",
    "        }\n",
    "    ],\n",
    "    model=\"gpt-3.5-turbo-0125\",\n",
    "    )\n",
    "    response = chat_completion.choices[0].message.content\n",
    "    return response \n"
   ]
  },
  {
   "cell_type": "code",
   "execution_count": 6,
   "id": "bf8b1d368ee3fea",
   "metadata": {
    "ExecuteTime": {
     "end_time": "2024-11-14T23:00:27.043479Z",
     "start_time": "2024-11-14T23:00:27.036942Z"
    }
   },
   "outputs": [],
   "source": [
    "#todo: shouldn't need to separate the two queries like this\n",
    "def multiple_queries(question_type='original_question', num_questions=5):\n",
    "    \"\"\"\n",
    "    query the model sequentially with multiple questions from the dataset \n",
    "    Args: question_type: specify whether to query the model with the original question or the new question \n",
    "        num_questions: the number of questions (mainly for testing a few questions at a time)\n",
    "    \n",
    "    \"\"\"\n",
    "    for idx, question in enumerate(questions):\n",
    "        if idx < num_questions:\n",
    "            query = question[question_type]\n",
    "            response = single_query(query)\n",
    "            print(response)\n",
    "            print('--------------------------------------------------')"
   ]
  },
  {
   "cell_type": "code",
   "execution_count": 7,
   "id": "e52c3dab9e207b7f",
   "metadata": {
    "ExecuteTime": {
     "end_time": "2024-11-14T23:00:31.024282Z",
     "start_time": "2024-11-14T23:00:29.968139Z"
    }
   },
   "outputs": [
    {
     "name": "stdout",
     "output_type": "stream",
     "text": [
      "Officer Hopps has given out 120 tickets in the first 15 days of May. Therefore, he needs to give out 80 more tickets in the remaining 16 days of the month. To reach his goal, he needs to average 5 tickets per day for the rest of the month.\n",
      "\n",
      "The answer is 5 tickets per day.\n",
      "--------------------------------------------------\n",
      "Each box costs $15/3 = $5.\n",
      "Grover has a total of 3 boxes x 20 face masks = 60 face masks.\n",
      "If he sells each face mask for $0.50, then his total revenue will be 60 x $0.50 = $30.\n",
      "His total profit will be $30 - $15 = $15.\n",
      "\n",
      "The answer is $15.\n",
      "--------------------------------------------------\n",
      "In the first round, Sam completed 16 skips, and Jeff completed 15 skips.\n",
      "In the second round, Sam completed 16 skips, and Jeff completed 13 skips.\n",
      "In the third round, Sam completed 16 skips, and Jeff completed 20 skips.\n",
      "In the last round, Sam completed 16 skips, and Jeff completed 8 skips.\n",
      "\n",
      "So, Jeff completed an average of (15 + 13 + 20 + 8) / 4 = 14 skips per round. \n",
      "\n",
      "The answer is 14.\n",
      "--------------------------------------------------\n",
      "To find the total number of beads Kylie uses to make her jewelry, we need to calculate the number of beads used for each type of jewelry separately and then add them all together.\n",
      "\n",
      "Number of beads used for necklaces: 10 necklaces * 20 beads = 200 beads\n",
      "Number of beads used for bracelets: 5 bracelets * 10 beads = 50 beads\n",
      "Number of beads used for earrings: 7 earrings * 5 beads = 35 beads\n",
      "\n",
      "Total number of beads used = 200 beads + 50 beads + 35 beads = 285 beads\n",
      "\n",
      "Therefore, Kylie uses a total of 285 beads to make her jewelry. The answer is 285 beads.\n",
      "--------------------------------------------------\n",
      "First, we need to figure out how many pages Juwella read two nights ago and last night.\n",
      "Two nights ago: 15 pages * 2 = 30 pages\n",
      "Last night: 30 pages + 5 pages = 35 pages\n",
      "\n",
      "So far, Juwella has read 15 pages + 30 pages + 35 pages = 80 pages\n",
      "\n",
      "Since the book has 100 pages, Juwella will read 100 pages - 80 pages = 20 pages tonight.\n",
      "\n",
      "The answer is 20 pages.\n",
      "--------------------------------------------------\n"
     ]
    }
   ],
   "source": [
    "#query with relevant information only\n",
    "multiple_queries(question_type='original_question', num_questions=5)\n"
   ]
  },
  {
   "cell_type": "code",
   "execution_count": 8,
   "id": "85108cec255fa020",
   "metadata": {
    "ExecuteTime": {
     "end_time": "2024-11-14T23:00:39.711404Z",
     "start_time": "2024-11-14T23:00:38.600795Z"
    }
   },
   "outputs": [
    {
     "name": "stdout",
     "output_type": "stream",
     "text": [
      "Officer Hopps gave out 120 tickets in the first 15 days (15 days * 8 tickets/day = 120 tickets). He needs to give out 80 more tickets to reach his goal of 200 tickets in May (200 tickets - 120 tickets = 80 tickets). There are 16 days remaining in May (31 days total - 15 days = 16 days). Therefore, Officer Hopps needs to average 5 tickets per day for the rest of the month (80 tickets / 16 days = 5 tickets/day).\n",
      "\n",
      "The answer is 5.\n",
      "--------------------------------------------------\n",
      "First, let's calculate the total cost of the face masks Grover bought. Since each box has 20 face masks and he bought 3 boxes, then Grover has 3 x 20 = 60 face masks in total.\n",
      "\n",
      "If Grover bought the 3 boxes for $15, then the cost per face mask is $15 / 60 masks = $0.25 per mask.\n",
      "\n",
      "Grover plans to sell each mask for $0.50, so his profit per mask would be $0.50 - $0.25 = $0.25 per mask.\n",
      "\n",
      "If Grover sells all 60 masks, his total profit would be 60 masks x $0.25 = $15.\n",
      "\n",
      "Therefore, Grover's total profit will be $15.\n",
      "\n",
      "The answer is $15.\n",
      "--------------------------------------------------\n",
      "First, let's calculate the number of skips Jeff completed in each round:\n",
      "\n",
      "Round 1: Sam = 16 skips, Jeff = 16 - 1 = 15 skips\n",
      "Round 2: Jeff = 15 - 3 = 12 skips\n",
      "Round 3: Jeff = 12 + 4 = 16 skips\n",
      "Round 4: Jeff = 16 / 2 = 8 skips\n",
      "\n",
      "Now, let's calculate the total number of skips Jeff completed: \n",
      "15 + 12 + 16 + 8 = 51 skips\n",
      "\n",
      "Since there are 4 rounds, the average number of skips per round completed by Jeff is 51 / 4 = 12.75 skips\n",
      "\n",
      "The answer is 12.75.\n",
      "--------------------------------------------------\n",
      "To find the total number of beads Kylie uses to make her jewelry, we first calculate:\n",
      "- Beads used for necklaces: 10 necklaces * 20 beads/necklace = 200 beads\n",
      "- Beads used for bracelets: 5 bracelets * 10 beads/bracelet = 50 beads\n",
      "- Beads used for earrings: 7 earrings * 5 beads/earring = 35 beads\n",
      "\n",
      "Adding these up, Kylie uses a total of 200 + 50 + 35 = 285 beads to make her jewelry.\n",
      "\n",
      "The answer is 285 beads.\n",
      "--------------------------------------------------\n",
      "First, we need to calculate how many pages Juwella read on each night:\n",
      "- Three nights ago: 15 pages\n",
      "- Two nights ago: 15 x 2 = 30 pages\n",
      "- Last night: 30 + 5 = 35 pages\n",
      "\n",
      "So far, Juwella has read a total of 15 + 30 + 35 = 80 pages.\n",
      "\n",
      "Since the book has 100 pages in total, Juwella will read 100 - 80 = 20 pages tonight.\n",
      "\n",
      "Therefore, the answer is 20.\n",
      "--------------------------------------------------\n"
     ]
    }
   ],
   "source": [
    "#query with irrelevant information included\n",
    "#todo: merge with querying 'original_question' to more easily compare differences in model output\n",
    "multiple_queries(question_type='new_question', num_questions=5)"
   ]
  },
  {
   "cell_type": "code",
   "execution_count": 9,
   "id": "3ca8421c116df2d5",
   "metadata": {},
   "outputs": [],
   "source": [
    "#todo: shouldn't need to separate the two queries like this\n",
    "def get_answers(question_type='original_question', num_questions=5):\n",
    "    \"\"\"\n",
    "    query the model sequentially with multiple questions from the dataset \n",
    "    Args: question_type: specify whether to query the model with the original question or the new question \n",
    "        num_questions: the number of questions (mainly for testing a few questions at a time)\n",
    "    \n",
    "    \"\"\"\n",
    "    for idx, question in enumerate(questions):\n",
    "        if idx < num_questions:\n",
    "            query = question[question_type]\n",
    "            response = single_query(query)\n",
    "            # print(response)\n",
    "            try:\n",
    "                answer = response.split(\"he answer is\")[1].strip(\"$\")\n",
    "                print(question['answer'], answer)\n",
    "            except:\n",
    "                print(response, question['answer'])\n",
    "                # input()"
   ]
  },
  {
   "cell_type": "code",
   "execution_count": 10,
   "id": "4e06018c-2348-4b5f-9039-1ce1d168cb43",
   "metadata": {},
   "outputs": [
    {
     "name": "stdout",
     "output_type": "stream",
     "text": [
      "5  5.\n",
      "15  -$15.\n",
      "14  14 skips.\n",
      "325  285 beads.\n",
      "20  20 pages.\n",
      "105  105.\n",
      "25  5 baskets.\n",
      "9  9.\n",
      "180  180 kilometers.\n",
      "3  4.\n",
      "134  134 pounds.\n",
      "12  12.\n",
      "64  64 ounces.\n",
      "59  $54.\n",
      "3  6.\n",
      "136  146.\n",
      "5  5.\n",
      "15  15.\n",
      "57  $57.\n",
      "25  25 baskets.\n",
      "15  $15.\n",
      "9  9.\n",
      "195  195.\n",
      "90  90.\n",
      "15  $15.\n",
      "80  80kg.\n",
      "40  32.\n",
      "62  62.\n",
      "4  4.\n",
      "48  13.\n",
      "39  39.\n",
      "48  19.\n",
      "40  40.\n",
      "4100  $4100.\n",
      "62  62 pounds.\n",
      "59  $59.\n",
      "9  9.\n",
      "4  4 hours.\n",
      "400  270 ml.\n",
      "20  45.\n",
      "1200  1200.\n",
      "3  4.\n",
      "325  325 beads.\n",
      "59  $59.\n",
      "325  285 beads.\n",
      "300  300.\n",
      "4  4 hours.\n",
      "325  285 beads.\n",
      "90  90.\n",
      "3  5.\n",
      "62  62.\n",
      "96  $224.\n",
      "195  195.\n",
      "4100  $6100.\n",
      "96  $64.\n",
      "21  17.\n",
      "188  211.\n",
      "62  62 pounds.\n",
      "9  9.\n",
      "40  40.\n",
      "12  12.\n",
      "40  40.\n",
      "15  0.\n",
      "14  14.\n",
      "4  4 hours.\n",
      "32  32.\n",
      "57  $57.\n",
      "15  38.\n",
      "4100  $4100.\n",
      "5  5.33.\n",
      "188  62.\n",
      "12  12.\n",
      "32  32 beads.\n",
      "14  14.\n",
      "134  134 pounds.\n",
      "3  4.\n",
      "9  9.\n",
      "25  25.\n",
      "325  285 beads.\n",
      "32  32 beads.\n",
      "1036  $1036.00.\n",
      "4  5.\n",
      "39  39 balloons.\n",
      "40  40.\n",
      "80  80kg.\n",
      "48  15.\n",
      "195  195.\n",
      "57  $57.\n",
      "15  $15.\n",
      "62  62.\n",
      "62  62 pounds.\n",
      "195  195.\n",
      "9  9.\n",
      "1200  1200.\n",
      "3  23.\n",
      "45  65.\n",
      "57  $57.\n",
      "105  99.\n",
      "105  108.\n",
      "105  100.\n"
     ]
    }
   ],
   "source": [
    "get_answers(question_type='new_question', num_questions=100)"
   ]
  }
 ],
 "metadata": {
  "kernelspec": {
   "display_name": "Python 3 (ipykernel)",
   "language": "python",
   "name": "python3"
  },
  "language_info": {
   "codemirror_mode": {
    "name": "ipython",
    "version": 3
   },
   "file_extension": ".py",
   "mimetype": "text/x-python",
   "name": "python",
   "nbconvert_exporter": "python",
   "pygments_lexer": "ipython3",
   "version": "3.12.0"
  }
 },
 "nbformat": 4,
 "nbformat_minor": 5
}
