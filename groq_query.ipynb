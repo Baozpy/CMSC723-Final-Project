{
 "cells": [
  {
   "cell_type": "code",
   "id": "initial_id",
   "metadata": {
    "collapsed": true,
    "ExecuteTime": {
     "end_time": "2024-11-14T22:59:43.733867Z",
     "start_time": "2024-11-14T22:59:42.903646Z"
    }
   },
   "source": [
    "import os\n",
    "import json\n",
    "from groq import Groq"
   ],
   "outputs": [],
   "execution_count": 1
  },
  {
   "metadata": {
    "ExecuteTime": {
     "end_time": "2024-11-14T22:59:43.975403Z",
     "start_time": "2024-11-14T22:59:43.741071Z"
    }
   },
   "cell_type": "code",
   "source": [
    "#open dataset and store it as a JSON object\n",
    "with open('../GSM-IC/GSM-IC_2step.json', 'r') as file:\n",
    "    questions = json.load(file)"
   ],
   "id": "12622f39170ff809",
   "outputs": [],
   "execution_count": 2
  },
  {
   "metadata": {
    "ExecuteTime": {
     "end_time": "2024-11-14T22:59:44.559901Z",
     "start_time": "2024-11-14T22:59:44.550873Z"
    }
   },
   "cell_type": "code",
   "source": [
    "#example of an entry in the dataset\n",
    "#todo: what's the point of all the keys under 'n_steps'?\n",
    "questions[0]"
   ],
   "id": "3c27539b0e66fc4a",
   "outputs": [
    {
     "data": {
      "text/plain": [
       "{'original_question': 'Steve is 5\\'6\".  He grows 6 inches.  How tall is he in inches?',\n",
       " 'answer': '72',\n",
       " 'new_question': 'Steve is 5\\'6\". He grows 6 inches. The height of Emma is 8 feet. How tall is Steve in inches?',\n",
       " 'n_steps': 2,\n",
       " 'role': 'Emma',\n",
       " 'number': '8',\n",
       " 'sentence_template': 'The height of {role} is {number} feet.',\n",
       " 'role_label': 'nonoverlapped',\n",
       " 'number_label': 'in_range',\n",
       " 'sentence_label': 'in_topic'}"
      ]
     },
     "execution_count": 3,
     "metadata": {},
     "output_type": "execute_result"
    }
   ],
   "execution_count": 3
  },
  {
   "metadata": {
    "ExecuteTime": {
     "end_time": "2024-11-14T22:59:45.030459Z",
     "start_time": "2024-11-14T22:59:44.647113Z"
    }
   },
   "cell_type": "code",
   "source": [
    "#initialize the Groq client. This allows us to query Llama3 (or another model) from my Groq account\n",
    "#todo: store the api_key in a secure way!\n",
    "client = Groq(\n",
    "    # api_key=os.environ.get(\"GROQ_API_KEY\")\n",
    "    api_key='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'\n",
    ")"
   ],
   "id": "201da739b16f97e3",
   "outputs": [],
   "execution_count": 4
  },
  {
   "metadata": {
    "ExecuteTime": {
     "end_time": "2024-11-14T22:59:45.049503Z",
     "start_time": "2024-11-14T22:59:45.043483Z"
    }
   },
   "cell_type": "code",
   "source": [
    "#todo: 1. answer_prompt is the current way of forcing the model to output its answer in predictable format. Find a better way to extract the numerical answer from the model's output. (maybe: require JSON output)\n",
    "\n",
    "#todo: 2. clean up the answer. Ex. remove $, %, inches, etc. \n",
    "\n",
    "def single_query(query):\n",
    "    \"\"\"\n",
    "    query the model with a single question\n",
    "    input: what you would type in the chat box to ask the model a question\n",
    "    output: the model's output in response to your query \n",
    "    \"\"\"\n",
    "\n",
    "    \n",
    "    answer_prompt='The last sentence of your response should be in the form \"The answer is [your answer]\".'\n",
    "    chat_completion = client.chat.completions.create(\n",
    "    messages=[\n",
    "        {\n",
    "            \"role\": \"user\",\n",
    "            \"content\": query + answer_prompt,\n",
    "        }\n",
    "    ],\n",
    "    model=\"llama3-8b-8192\",\n",
    "    )\n",
    "    response = chat_completion.choices[0].message.content\n",
    "    return response \n"
   ],
   "id": "e534e19014b21362",
   "outputs": [],
   "execution_count": 5
  },
  {
   "metadata": {
    "ExecuteTime": {
     "end_time": "2024-11-14T23:00:27.043479Z",
     "start_time": "2024-11-14T23:00:27.036942Z"
    }
   },
   "cell_type": "code",
   "source": [
    "#todo: shouldn't need to separate the two queries like this\n",
    "def multiple_queries(question_type='original_question', num_questions=5):\n",
    "    \"\"\"\n",
    "    query the model sequentially with multiple questions from the dataset \n",
    "    Args: question_type: specify whether to query the model with the original question or the new question \n",
    "        num_questions: the number of questions (mainly for testing a few questions at a time)\n",
    "    \n",
    "    \"\"\"\n",
    "    for idx, question in enumerate(questions):\n",
    "        if idx <num_questions:\n",
    "            query = question[question_type]\n",
    "            response = single_query(query)\n",
    "            print(response)\n",
    "            print('--------------------------------------------------')"
   ],
   "id": "bf8b1d368ee3fea",
   "outputs": [],
   "execution_count": 9
  },
  {
   "metadata": {
    "ExecuteTime": {
     "end_time": "2024-11-14T23:00:31.024282Z",
     "start_time": "2024-11-14T23:00:29.968139Z"
    }
   },
   "cell_type": "code",
   "source": [
    "#query with relevant information only\n",
    "multiple_queries(question_type='original_question', num_questions=5)\n"
   ],
   "id": "e52c3dab9e207b7f",
   "outputs": [
    {
     "name": "stdout",
     "output_type": "stream",
     "text": [
      "Let's convert Steve's height from feet and inches to inches. Since 1 foot is equal to 12 inches, Steve is initially 66 inches tall (5'6\" = 5 x 12 + 6).\n",
      "\n",
      "Then, he grows 6 inches, so we add that to his initial height:\n",
      "\n",
      "66 + 6 = 72\n",
      "\n",
      "The answer is 72.\n",
      "--------------------------------------------------\n",
      "Let's break it down:\n",
      "\n",
      "Jewel bought 10 magazines at $3 each, so she spent:\n",
      "10 x $3 = $30\n",
      "\n",
      "She will sell the magazines at $3.50 each, so she will gain:\n",
      "10 x $3.50 = $35\n",
      "\n",
      "To find out how much Jewel will gain, we subtract the cost from the revenue:\n",
      "$35 - $30 = $5\n",
      "\n",
      "The answer is $5.\n",
      "--------------------------------------------------\n",
      "Edmund uses 18 inches of wrapper per gift box. In 3 days, he has 90 x 3 inches of wrapper, which is 270 inches of wrapper. How many 18's fit into 270? 270 / 18 = 15. The answer is 15.\n",
      "--------------------------------------------------\n",
      "Since the bar lasts for 2 months, Maria will need 6 bars for the entire year (12 months ÷ 2 months per bar = 6 bars). If each bar costs $8.00, then the total cost for the year will be 6 bars × $8.00 per bar = $48.00. The answer is $48.00.\n",
      "--------------------------------------------------\n",
      "Let's start by identifying Oli's scoops. Oli has 4 scoops of ice cream. Victoria has twice as much as Oli, or 4 x 2 = 8 scoops. To find the difference, we subtract Oli's scoops from Victoria's: 8 - 4 = 4.\n",
      "\n",
      "The answer is 4.\n",
      "--------------------------------------------------\n"
     ]
    }
   ],
   "execution_count": 10
  },
  {
   "metadata": {
    "ExecuteTime": {
     "end_time": "2024-11-14T23:00:39.711404Z",
     "start_time": "2024-11-14T23:00:38.600795Z"
    }
   },
   "cell_type": "code",
   "source": [
    "#query with irrelevant information included\n",
    "#todo: merge with querying 'original_question' to more easily compare differences in model output\n",
    "multiple_queries(question_type='new_question', num_questions=5)"
   ],
   "id": "85108cec255fa020",
   "outputs": [
    {
     "name": "stdout",
     "output_type": "stream",
     "text": [
      "Let's convert Steve's original height to inches. There are 12 inches in a foot, so 5'6\" is equal to:\n",
      "\n",
      "5 feet x 12 inches/foot = 60 inches\n",
      "+ 6 inches = 66 inches\n",
      "\n",
      "Steve grows 6 more inches, so his new height is:\n",
      "\n",
      "66 inches + 6 inches = 72 inches\n",
      "\n",
      "Emma is 8 feet tall, which is equal to:\n",
      "\n",
      "8 feet x 12 inches/foot = 96 inches\n",
      "\n",
      "So, Steve's height in inches is 72 inches. The answer is 72.\n",
      "--------------------------------------------------\n",
      "Let's first calculate the cost of the magazines that Jewel bought: 10 magazines x $3 each = $30.\n",
      "\n",
      "Jewel will sell the magazines for $3.50 each, so she will earn:\n",
      "\n",
      "10 magazines x $3.50 each = $35\n",
      "\n",
      "To find out how much Jewel will gain, we subtract the cost from the selling price:\n",
      "\n",
      "$35 (selling price) - $30 (cost) = $5\n",
      "\n",
      "The answer is $5.\n",
      "--------------------------------------------------\n",
      "Each day, Edmund has 90 inches of gift wrapper. Every 3 days, he has 90 * 3 = 270 inches. Each gift box uses 18 inches of gift wrapper. 270 ÷ 18 = 15, so he can wrap 15 gift boxes every 3 days.\n",
      "\n",
      "The answer is 15.\n",
      "--------------------------------------------------\n",
      "The bar of soap lasts for 2 months, so Maria will need to buy 6 bars of soap to last the entire year (12 months). The cost of each bar is $8.00, so the total cost will be:\n",
      "\n",
      "6 bars x $8.00 per bar = $48.00\n",
      "\n",
      "The answer is $48.00.\n",
      "--------------------------------------------------\n",
      "Let's start by identifying the number of scoops of ice cream Victoria has. Since Victoria has twice more scoops of ice cream than Oli, she has 4 + 4 = 8 scoops of ice cream.\n",
      "\n",
      "The answer is 4.\n",
      "--------------------------------------------------\n"
     ]
    }
   ],
   "execution_count": 11
  },
  {
   "metadata": {},
   "cell_type": "code",
   "outputs": [],
   "execution_count": null,
   "source": "",
   "id": "3ca8421c116df2d5"
  }
 ],
 "metadata": {
  "kernelspec": {
   "display_name": "Python 3",
   "language": "python",
   "name": "python3"
  },
  "language_info": {
   "codemirror_mode": {
    "name": "ipython",
    "version": 2
   },
   "file_extension": ".py",
   "mimetype": "text/x-python",
   "name": "python",
   "nbconvert_exporter": "python",
   "pygments_lexer": "ipython2",
   "version": "2.7.6"
  }
 },
 "nbformat": 4,
 "nbformat_minor": 5
}
