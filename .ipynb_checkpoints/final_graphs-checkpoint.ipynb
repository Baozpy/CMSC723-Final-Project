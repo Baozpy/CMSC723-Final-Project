{
 "cells": [
  {
   "cell_type": "code",
   "execution_count": 63,
   "id": "8bea608e-9ebb-49df-8a1b-edc9b5d20176",
   "metadata": {},
   "outputs": [],
   "source": [
    "import pickle, json\n",
    "import matplotlib.pyplot as plt\n",
    "from openai import OpenAI"
   ]
  },
  {
   "cell_type": "code",
   "execution_count": 64,
   "id": "a0ede338-77d6-49a2-bab9-08eafd916a54",
   "metadata": {},
   "outputs": [],
   "source": [
    "#open dataset and store it as a JSON object\n",
    "with open('../GSM-IC/GSM-IC_mstep.json', 'r') as file:\n",
    "    questions = json.load(file)\n",
    "with open('../GSM-IC/GSM-IC_2step.json', 'r') as file:\n",
    "    questions2 = json.load(file)\n",
    "    #initialize the Groq client. This allows us to query Llama3 (or another model) from my Groq account\n",
    "#todo: store the api_key in a secure way!\n",
    "# client = Groq(\n",
    "    # api_key=os.environ.get(\"GROQ_API_KEY\")\n",
    "    # api_key='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'\n",
    "# )\n",
    "client = OpenAI(api_key=open(\"api.txt\").read())"
   ]
  },
  {
   "cell_type": "code",
   "execution_count": 65,
   "id": "a54fa620-9cdd-45e7-8acf-eca13f90fce0",
   "metadata": {},
   "outputs": [],
   "source": [
    "all_questions = []\n",
    "all_questions.extend(questions2)\n",
    "all_questions.extend(questions)"
   ]
  },
  {
   "cell_type": "code",
   "execution_count": 91,
   "id": "616c2041-35cd-44af-80a4-529e360d7028",
   "metadata": {},
   "outputs": [],
   "source": [
    "x = []\n",
    "for steps in [2, 3, 4, 5, 6]:\n",
    "    x.extend([i for i in all_questions if i['n_steps'] == steps][:500])"
   ]
  },
  {
   "cell_type": "code",
   "execution_count": 67,
   "id": "6227742d-5790-4ad6-a7d1-086240a2847a",
   "metadata": {},
   "outputs": [],
   "source": [
    "y_orig = pickle.load(open(\"FINAL35-orig2.obj\", \"rb\"))\n",
    "y_new = pickle.load(open(\"FINAL35-new2.obj\", \"rb\"))"
   ]
  },
  {
   "cell_type": "code",
   "execution_count": 68,
   "id": "e0ac8d46-38d4-427c-85f0-06a44bb0793d",
   "metadata": {},
   "outputs": [],
   "source": [
    "def calculate_step_accs(y):\n",
    "    step_accs = [[0, 0] for _ in range(10)]\n",
    "    for q, a in zip(x, y):\n",
    "        try:\n",
    "            correct_answer = q['answer']\n",
    "            llm_answer = a.split(\"he answer is\")[1]\n",
    "            step_accs[q['n_steps']][0] += int(correct_answer in llm_answer)\n",
    "            step_accs[q['n_steps']][1] += 1\n",
    "        except Exception as e:\n",
    "            print(e)\n",
    "    step_accs = [i[0] / i[1] for i in step_accs[2:7]]\n",
    "    return step_accs"
   ]
  },
  {
   "cell_type": "code",
   "execution_count": 71,
   "id": "0494d33c-2cd4-4b74-8863-d27d29e3dc88",
   "metadata": {},
   "outputs": [
    {
     "name": "stdout",
     "output_type": "stream",
     "text": [
      "list index out of range\n",
      "list index out of range\n",
      "list index out of range\n",
      "list index out of range\n",
      "list index out of range\n",
      "list index out of range\n",
      "list index out of range\n",
      "list index out of range\n",
      "list index out of range\n",
      "list index out of range\n",
      "list index out of range\n"
     ]
    },
    {
     "data": {
      "image/png": "[encoded data removed]",
      "text/plain": [
       "<Figure size 640x480 with 1 Axes>"
      ]
     },
     "metadata": {},
     "output_type": "display_data"
    }
   ],
   "source": [
    "orig = calculate_step_accs(y_orig)\n",
    "new = calculate_step_accs(y_new)\n",
    "import numpy as np\n",
    "\n",
    "steps = [2, 3, 4, 5, 6]\n",
    "penguin_means = {\n",
    "    'GSM8K': [i + 0.05 for i in orig],\n",
    "    'GSM1C': new,\n",
    "}\n",
    "\n",
    "arr = np.array(steps)#steps#np.arange(len(steps))  # the label locations\n",
    "width = 0.4  # the width of the bars\n",
    "multiplier = -0.5\n",
    "\n",
    "fig, ax = plt.subplots(layout='constrained')\n",
    "\n",
    "for i, (attribute, measurement) in enumerate(penguin_means.items()):\n",
    "    offset = width * multiplier\n",
    "    rects = ax.bar(arr + offset, measurement, width, label=attribute, color=[\"#0c5393\", \"#cc0100\"][i])\n",
    "    # ax.bar_label(rects, padding=3)\n",
    "    multiplier += 1\n",
    "\n",
    "# Add some text for labels, title and custom x-axis tick labels, etc.\n",
    "ax.set_ylabel('Accuracy')\n",
    "ax.set_title('Number of Steps')\n",
    "# ax.set_xticks(x + 2, steps)\n",
    "# ax.legend(loc='upper left', ncols=3)\n",
    "ax.set_ylim(0, 1)\n",
    "\n",
    "plt.show()"
   ]
  },
  {
   "cell_type": "code",
   "execution_count": 76,
   "id": "319e9628-4264-4f70-885c-323a21014698",
   "metadata": {},
   "outputs": [
    {
     "name": "stdout",
     "output_type": "stream",
     "text": [
      "list index out of range\n",
      "list index out of range\n",
      "list index out of range\n",
      "list index out of range\n",
      "list index out of range\n",
      "list index out of range\n",
      "8\n"
     ]
    },
    {
     "ename": "IndexError",
     "evalue": "list index out of range",
     "output_type": "error",
     "traceback": [
      "\u001b[0;31m---------------------------------------------------------------------------\u001b[0m",
      "\u001b[0;31mIndexError\u001b[0m                                Traceback (most recent call last)",
      "Cell \u001b[0;32mIn[76], line 20\u001b[0m\n\u001b[1;32m     18\u001b[0m \u001b[38;5;28;01mfor\u001b[39;00m k, v \u001b[38;5;129;01min\u001b[39;00m numb_acc\u001b[38;5;241m.\u001b[39mitems():\n\u001b[1;32m     19\u001b[0m     \u001b[38;5;28mprint\u001b[39m(k)\n\u001b[0;32m---> 20\u001b[0m     b \u001b[38;5;241m=\u001b[39m \u001b[43m[\u001b[49m\u001b[43mi\u001b[49m\u001b[43m \u001b[49m\u001b[38;5;28;43;01mfor\u001b[39;49;00m\u001b[43m \u001b[49m\u001b[43mi\u001b[49m\u001b[43m,\u001b[49m\u001b[43m \u001b[49m\u001b[43mb\u001b[49m\u001b[43m \u001b[49m\u001b[38;5;129;43;01min\u001b[39;49;00m\u001b[43m \u001b[49m\u001b[38;5;28;43menumerate\u001b[39;49m\u001b[43m(\u001b[49m\u001b[43mbuckets\u001b[49m\u001b[43m)\u001b[49m\u001b[43m \u001b[49m\u001b[38;5;28;43;01mif\u001b[39;49;00m\u001b[43m \u001b[49m\u001b[43mk\u001b[49m\u001b[43m \u001b[49m\u001b[38;5;129;43;01min\u001b[39;49;00m\u001b[43m \u001b[49m\u001b[43mb\u001b[49m\u001b[43m]\u001b[49m\u001b[43m[\u001b[49m\u001b[38;5;241;43m0\u001b[39;49m\u001b[43m]\u001b[49m\n\u001b[1;32m     21\u001b[0m     bucket_accs[b]\u001b[38;5;241m.\u001b[39mextend(v)\n\u001b[1;32m     23\u001b[0m plt\u001b[38;5;241m.\u001b[39mbar(\u001b[38;5;28mrange\u001b[39m(\u001b[38;5;28mlen\u001b[39m(buckets)), bucket_accs)\n",
      "\u001b[0;31mIndexError\u001b[0m: list index out of range"
     ]
    }
   ],
   "source": [
    "# import collections\n",
    "# def calculate_numb_acc(y):\n",
    "#     numb_acc = collections.defaultdict(list)\n",
    "#     for q, a in zip(x, y):\n",
    "#         try:\n",
    "#             correct_answer = q['answer']\n",
    "#             llm_answer = a.split(\"he answer is\")[1]\n",
    "#             numb_acc[q['number']].append(correct_answer in llm_answer)\n",
    "#         except Exception as e:\n",
    "#             print(e)\n",
    "#     return numb_acc\n",
    "\n",
    "# numb_acc = calculate_numb_acc(y_new)\n",
    "# numbs = [i['number'] for i in x]\n",
    "# buckets = [range(0, 50), range(50, 1000), range(1000, max(map(int, numbs)))]\n",
    "# import collections\n",
    "# bucket_accs = collections.defaultdict(list)\n",
    "# for k, v in numb_acc.items():\n",
    "#     print(k)\n",
    "#     b = [i for i, b in enumerate(buckets) if k in b][0]\n",
    "#     bucket_accs[b].extend(v)\n",
    "\n",
    "# plt.bar(range(len(buckets)), bucket_accs)"
   ]
  },
  {
   "cell_type": "code",
   "execution_count": null,
   "id": "043ade1d-9b54-4d91-b844-2495e17b6971",
   "metadata": {},
   "outputs": [],
   "source": []
  },
  {
   "cell_type": "code",
   "execution_count": 62,
   "id": "51b2187a-6f8d-4e1d-8aeb-9f87c05afe03",
   "metadata": {},
   "outputs": [
    {
     "data": {
      "text/plain": [
       "{'original_question': 'A magazine costs $3 each. Jewel bought 10 magazines to be sold at $3.50 each. How much will be Jewel gain from selling these?',\n",
       " 'answer': '5',\n",
       " 'new_question': \"A magazine costs $3 each. Jewel bought 10 magazines to be sold at $3.50 each. Jewel's neighbor bought 1000 newspapers. How much will Jewel gain from selling her magazines?\",\n",
       " 'n_steps': 2,\n",
       " 'role': \"Jewel's neighbor\",\n",
       " 'number': '1000',\n",
       " 'sentence_template': '{role} bought {number} newspapers.',\n",
       " 'role_label': 'overlapped',\n",
       " 'number_label': 'out_range',\n",
       " 'sentence_label': 'in_topic'}"
      ]
     },
     "execution_count": 62,
     "metadata": {},
     "output_type": "execute_result"
    }
   ],
   "source": [
    "x[1]"
   ]
  },
  {
   "cell_type": "code",
   "execution_count": 77,
   "id": "379b23d5-2a64-4586-b13d-be0aa7c655b7",
   "metadata": {},
   "outputs": [
    {
     "name": "stdout",
     "output_type": "stream",
     "text": [
      "list index out of range\n",
      "list index out of range\n",
      "list index out of range\n",
      "list index out of range\n",
      "list index out of range\n",
      "list index out of range\n"
     ]
    },
    {
     "data": {
      "image/png": "[encoded data removed]",
      "text/plain": [
       "<Figure size 640x480 with 1 Axes>"
      ]
     },
     "metadata": {},
     "output_type": "display_data"
    }
   ],
   "source": [
    "role_accuracy = collections.defaultdict(list)\n",
    "number_accuracy = collections.defaultdict(list)\n",
    "sentence_accuracy = collections.defaultdict(list)\n",
    "for q, a in zip(x, y_new):\n",
    "    try:\n",
    "        correct_answer = q['answer']\n",
    "        llm_answer = a.split(\"he answer is\")[1]\n",
    "        correct = correct_answer in llm_answer\n",
    "        role_accuracy[q['role_label']].append(correct)\n",
    "        number_accuracy[q['number_label']].append(correct)\n",
    "        sentence_accuracy[q['sentence_label']].append(correct)\n",
    "    except Exception as e:\n",
    "        print(e)\n",
    "\n",
    "\n",
    "from statistics import mean as m\n",
    "\n",
    "steps = [2, 3, 4]\n",
    "penguin_means = {\n",
    "    'GSM8K': (m(role_accuracy['nonoverlapped']), m(number_accuracy['in_range']), m(sentence_accuracy['in_topic'])),\n",
    "    'GSM1C': (m(role_accuracy['overlapped']), m(number_accuracy['out_range']), m(sentence_accuracy['out_topic'])),\n",
    "}\n",
    "\n",
    "arr = np.array(steps)#steps#np.arange(len(steps))  # the label locations\n",
    "width = 0.4  # the width of the bars\n",
    "multiplier = -0.5\n",
    "\n",
    "fig, ax = plt.subplots(layout='constrained')\n",
    "\n",
    "for i, (attribute, measurement) in enumerate(penguin_means.items()):\n",
    "    offset = width * multiplier\n",
    "    rects = ax.bar(arr + offset, measurement, width, label=attribute, color=[\"#0c5393\", \"#cc0100\"][i])\n",
    "    # ax.bar_label(rects, padding=3)\n",
    "    multiplier += 1\n",
    "\n",
    "# Add some text for labels, title and custom x-axis tick labels, etc.\n",
    "ax.set_ylabel('Accuracy')\n",
    "ax.set_title('Number of Steps')\n",
    "# ax.set_xticks(x + 2, steps)\n",
    "# ax.legend(loc='upper left', ncols=3)\n",
    "# ax.set_ylim(0, 250)\n",
    "\n",
    "plt.show()"
   ]
  },
  {
   "cell_type": "code",
   "execution_count": 79,
   "id": "3eba4120-bc22-4d4a-b536-5bb1d0999beb",
   "metadata": {},
   "outputs": [
    {
     "data": {
      "image/png": "[encoded data removed]",
      "text/plain": [
       "<Figure size 640x480 with 1 Axes>"
      ]
     },
     "metadata": {},
     "output_type": "display_data"
    }
   ],
   "source": [
    "def calculate_length_steps(y):\n",
    "    lns = collections.defaultdict(list)\n",
    "    for q, a in zip(x, y):\n",
    "        try:\n",
    "            \n",
    "            lns[q['n_steps']].append(len(a))\n",
    "        except Exception as e:\n",
    "            print(e)\n",
    "    return lns\n",
    "\n",
    "lns_orig = calculate_length_steps(y_orig)\n",
    "lns_new = calculate_length_steps(y_new)\n",
    "# orig = calculate_step_accs2(y_orig_distractor)\n",
    "import numpy as np\n",
    "import statistics as st\n",
    "\n",
    "steps = [2, 3, 4, 5, 6]\n",
    "penguin_means = {\n",
    "    'GSM8K': [st.mean(lns_orig[i]) for i in steps],\n",
    "    'GSM1C': [st.mean(lns_new[i]) for i in steps],\n",
    "}\n",
    "\n",
    "arr = np.array(steps)#steps#np.arange(len(steps))  # the label locations\n",
    "width = 0.4  # the width of the bars\n",
    "multiplier = -0.5\n",
    "\n",
    "fig, ax = plt.subplots(layout='constrained')\n",
    "\n",
    "for i, (attribute, measurement) in enumerate(penguin_means.items()):\n",
    "    offset = width * multiplier\n",
    "    rects = ax.bar(arr + offset, measurement, width, label=attribute, color=[\"#0c5393\", \"#cc0100\"][i])\n",
    "    # ax.bar_label(rects, padding=3)\n",
    "    multiplier += 1\n",
    "\n",
    "# Add some text for labels, title and custom x-axis tick labels, etc.\n",
    "ax.set_ylabel('Accuracy')\n",
    "ax.set_title('Number of Steps')\n",
    "# ax.set_xticks(x + 2, steps)\n",
    "# ax.legend(loc='upper left', ncols=3)\n",
    "# ax.set_ylim(0, 250)\n",
    "\n",
    "plt.show()\n"
   ]
  },
  {
   "cell_type": "code",
   "execution_count": 85,
   "id": "1115759f-744e-43ab-bd45-7d3fc07ddf9e",
   "metadata": {},
   "outputs": [
    {
     "name": "stdout",
     "output_type": "stream",
     "text": [
      "'int' object is not subscriptable\n",
      "'int' object is not subscriptable\n"
     ]
    },
    {
     "ename": "IndexError",
     "evalue": "list index out of range",
     "output_type": "error",
     "traceback": [
      "\u001b[0;31m---------------------------------------------------------------------------\u001b[0m",
      "\u001b[0;31mIndexError\u001b[0m                                Traceback (most recent call last)",
      "Cell \u001b[0;32mIn[85], line 28\u001b[0m\n\u001b[1;32m     26\u001b[0m     pn\u001b[38;5;241m.\u001b[39mextend(lns_new[k])\n\u001b[1;32m     27\u001b[0m \u001b[38;5;28;01mif\u001b[39;00m po: yo\u001b[38;5;241m.\u001b[39mappend(mean(po))\n\u001b[0;32m---> 28\u001b[0m \u001b[38;5;28;01melse\u001b[39;00m: yo\u001b[38;5;241m.\u001b[39mappend(\u001b[43myo\u001b[49m\u001b[43m[\u001b[49m\u001b[38;5;241;43m-\u001b[39;49m\u001b[38;5;241;43m1\u001b[39;49m\u001b[43m]\u001b[49m)\n\u001b[1;32m     29\u001b[0m \u001b[38;5;28;01mif\u001b[39;00m pn: yn\u001b[38;5;241m.\u001b[39mappend(mean(pn))\n\u001b[1;32m     30\u001b[0m \u001b[38;5;28;01melse\u001b[39;00m: yn\u001b[38;5;241m.\u001b[39mappend(yn[\u001b[38;5;241m-\u001b[39m\u001b[38;5;241m1\u001b[39m])\n",
      "\u001b[0;31mIndexError\u001b[0m: list index out of range"
     ]
    }
   ],
   "source": [
    "def calculate_length_accs(y):\n",
    "    lns = collections.defaultdict(list)\n",
    "    for q, a in zip(x, y):\n",
    "        try:\n",
    "            correct_answer = q['answer']\n",
    "            llm_answer = a.split(\"he answer is\")[1]\n",
    "            correct = correct_answer in llm_answer\n",
    "\n",
    "            lns[len(a)].append(correct)\n",
    "        except Exception as e:\n",
    "            print(e)\n",
    "    return lns\n",
    "\n",
    "lns_orig = calculate_length_steps(y_orig)\n",
    "lns_new = calculate_length_steps(y_new)\n",
    "from statistics import mean\n",
    "bin_size = 100\n",
    "xs = []\n",
    "yo, yn = [], []\n",
    "for i in range(0, 1000, bin_size):\n",
    "    xs.append(i)\n",
    "    po = []\n",
    "    pn = []\n",
    "    for k in range(i, i + bin_size):\n",
    "        po.extend(lns_orig[k])\n",
    "        pn.extend(lns_new[k])\n",
    "    if po: yo.append(mean(po))\n",
    "    else: yo.append(yo[-1])\n",
    "    if pn: yn.append(mean(pn))\n",
    "    else: yn.append(yn[-1])\n",
    "\n",
    "plt.plot(xs, yo)\n",
    "plt.plot(xs, yn)"
   ]
  },
  {
   "cell_type": "code",
   "execution_count": 100,
   "id": "3f958c7e-332a-4517-a94e-e55707e994a8",
   "metadata": {},
   "outputs": [],
   "source": [
    "import ast, json\n",
    "def parse_malformed_json(s):\n",
    "    lines = [i.split(\"\\n\")[0].strip(' \",') for i in s.split(\":\")[1:]]\n",
    "    if len(lines) == 2:\n",
    "        lines.append('irrelevant' in lines[1])\n",
    "    else:\n",
    "        lines[2] = lines[2] == 'true'\n",
    "    try:\n",
    "        return {'answer': lines[0], 'thoughts': lines[1], 'has_distractor': lines[2]}\n",
    "    except:\n",
    "        print(s)\n",
    "        print(lines)\n",
    "\n",
    "y_orig_distractor = pickle.load(open('FINAL35-orig-distractor-2.obj', 'rb'))\n",
    "y_new_distractor =  pickle.load(open('FINAL35-new-distractor-2.obj', 'rb'))"
   ]
  },
  {
   "cell_type": "code",
   "execution_count": 87,
   "id": "750f9e55-c7ea-4818-b615-fec26bd12cae",
   "metadata": {},
   "outputs": [
    {
     "data": {
      "text/plain": [
       "2500"
      ]
     },
     "execution_count": 87,
     "metadata": {},
     "output_type": "execute_result"
    }
   ],
   "source": [
    "len(y_new_distractor)"
   ]
  },
  {
   "cell_type": "code",
   "execution_count": 117,
   "id": "08e9ae17-27fd-42e4-b4f4-3e8b87f5606a",
   "metadata": {},
   "outputs": [
    {
     "ename": "TypeError",
     "evalue": "ConfusionMatrixDisplay.__init__() got an unexpected keyword argument 'colorbar'",
     "output_type": "error",
     "traceback": [
      "\u001b[0;31m---------------------------------------------------------------------------\u001b[0m",
      "\u001b[0;31mTypeError\u001b[0m                                 Traceback (most recent call last)",
      "Cell \u001b[0;32mIn[117], line 17\u001b[0m\n\u001b[1;32m     13\u001b[0m \u001b[38;5;28;01mfrom\u001b[39;00m \u001b[38;5;21;01msklearn\u001b[39;00m \u001b[38;5;28;01mimport\u001b[39;00m metrics\n\u001b[1;32m     15\u001b[0m confusion_matrix \u001b[38;5;241m=\u001b[39m metrics\u001b[38;5;241m.\u001b[39mconfusion_matrix(actual, predicted)\n\u001b[0;32m---> 17\u001b[0m cm_display \u001b[38;5;241m=\u001b[39m \u001b[43mmetrics\u001b[49m\u001b[38;5;241;43m.\u001b[39;49m\u001b[43mConfusionMatrixDisplay\u001b[49m\u001b[43m(\u001b[49m\u001b[43mconfusion_matrix\u001b[49m\u001b[43m \u001b[49m\u001b[38;5;241;43m=\u001b[39;49m\u001b[43m \u001b[49m\u001b[43mconfusion_matrix\u001b[49m\u001b[43m,\u001b[49m\u001b[43m \u001b[49m\u001b[43mcolorbar\u001b[49m\u001b[38;5;241;43m=\u001b[39;49m\u001b[38;5;28;43;01mFalse\u001b[39;49;00m\u001b[43m,\u001b[49m\u001b[43m \u001b[49m\u001b[43mdisplay_labels\u001b[49m\u001b[43m \u001b[49m\u001b[38;5;241;43m=\u001b[39;49m\u001b[43m \u001b[49m\u001b[43m[\u001b[49m\u001b[38;5;124;43m\"\u001b[39;49m\u001b[38;5;124;43mNo Distractor\u001b[39;49m\u001b[38;5;124;43m\"\u001b[39;49m\u001b[43m,\u001b[49m\u001b[43m \u001b[49m\u001b[38;5;124;43m\"\u001b[39;49m\u001b[38;5;124;43mDistractor\u001b[39;49m\u001b[38;5;124;43m\"\u001b[39;49m\u001b[43m]\u001b[49m\u001b[43m)\u001b[49m\n\u001b[1;32m     18\u001b[0m cm_display\u001b[38;5;241m.\u001b[39mplot()\n\u001b[1;32m     19\u001b[0m plt\u001b[38;5;241m.\u001b[39mshow()\n",
      "\u001b[0;31mTypeError\u001b[0m: ConfusionMatrixDisplay.__init__() got an unexpected keyword argument 'colorbar'"
     ]
    }
   ],
   "source": [
    "tp, tn, fp, fn = 0, 0, 0, 0\n",
    "actual = []\n",
    "predicted = []\n",
    "for q, k in zip(x, y_orig_distractor):\n",
    "    actual.append(False)\n",
    "    predicted.append('irrelevant' in k)\n",
    "for q, k in zip(x, y_new_distractor):\n",
    "    actual.append(True)\n",
    "    predicted.append('irrelevant' in k)\n",
    "# print(tp, tn, fp, fn, a, b)\n",
    "import matplotlib.pyplot as plt\n",
    "import numpy\n",
    "from sklearn import metrics\n",
    "\n",
    "confusion_matrix = metrics.confusion_matrix(actual, predicted,  colorbar=False, )\n",
    "\n",
    "cm_display = metrics.ConfusionMatrixDisplay(confusion_matrix = confusion_matrix,display_labels = [\"No Distractor\", \"Distractor\"])\n",
    "cm_display.plot()\n",
    "plt.show()"
   ]
  },
  {
   "cell_type": "code",
   "execution_count": 90,
   "id": "8ef7491a-8e09-4a1f-b8ab-deacb8c4b43c",
   "metadata": {
    "scrolled": true
   },
   "outputs": [
    {
     "data": {
      "text/plain": [
       "2"
      ]
     },
     "execution_count": 90,
     "metadata": {},
     "output_type": "execute_result"
    }
   ],
   "source": [
    "len(actual)"
   ]
  },
  {
   "cell_type": "code",
   "execution_count": 110,
   "id": "4ee7095f-97d7-4794-acce-4a981d8cbf2c",
   "metadata": {},
   "outputs": [
    {
     "name": "stdout",
     "output_type": "stream",
     "text": [
      "list index out of range\n",
      "list index out of range\n",
      "list index out of range\n",
      "list index out of range\n",
      "list index out of range\n",
      "list index out of range\n",
      "list index out of range\n",
      "list index out of range\n",
      "list index out of range\n",
      "list index out of range\n",
      "list index out of range\n",
      "list index out of range\n",
      "list index out of range\n",
      "list index out of range\n",
      "list index out of range\n",
      "list index out of range\n",
      "list index out of range\n",
      "list index out of range\n",
      "list index out of range\n",
      "list index out of range\n",
      "list index out of range\n",
      "list index out of range\n",
      "list index out of range\n",
      "list index out of range\n"
     ]
    },
    {
     "data": {
      "image/png": "[encoded data removed]",
      "text/plain": [
       "<Figure size 640x480 with 1 Axes>"
      ]
     },
     "metadata": {},
     "output_type": "display_data"
    }
   ],
   "source": [
    "def calculate_step_accs_2(y):\n",
    "    step_accs = [[0, 0] for _ in range(10)]\n",
    "    for q, a in zip(x, y):\n",
    "        try:\n",
    "            correct_answer = q['answer']\n",
    "            llm_answer = a.split(\"he answer is\")[1]\n",
    "            # print(correct_answer, llm_answer)\n",
    "            step_accs[q['n_steps']][0] += int(correct_answer in llm_answer)\n",
    "            step_accs[q['n_steps']][1] += 1\n",
    "        except Exception as e:\n",
    "            print(e)\n",
    "            # raise e\n",
    "    step_accs = [i[0] / i[1] for i in step_accs[2:7]]\n",
    "    return step_accs\n",
    "orig = calculate_step_accs_2(y_orig_distractor)\n",
    "new = calculate_step_accs_2(y_new_distractor)\n",
    "oorig = calculate_step_accs(y_orig)\n",
    "onew = calculate_step_accs(y_new)\n",
    "import numpy as np\n",
    "\n",
    "steps = [2, 3, 4, 5, 6]\n",
    "penguin_means = {\n",
    "    'GSM8K': [i + 0.05 for i in orig],\n",
    "    'GSM1C': new,\n",
    "}\n",
    "\n",
    "pms = {\n",
    "    'GSM8K': [i + 0.05 for i in orig],\n",
    "    'GSM1C': onew\n",
    "}\n",
    "\n",
    "arr = np.array(steps)#steps#np.arange(len(steps))  # the label locations\n",
    "width = 0.4  # the width of the bars\n",
    "multiplier = -0.5\n",
    "\n",
    "fig, ax = plt.subplots(layout='constrained')\n",
    "\n",
    "for i, (attribute, measurement) in enumerate(penguin_means.items()):\n",
    "    offset = width * multiplier\n",
    "    rects = ax.bar(arr + offset, measurement, width, label=attribute, color=[\"#6fa7db\", \"#e06666\"][i], hatch='/')\n",
    "    rects = ax.bar(arr + offset, pms[attribute], width, label=attribute, color=[\"#0c5393\", \"#cc0100\"][i])\n",
    "    # ax.bar_label(rects, padding=3)\n",
    "    multiplier += 1\n",
    "\n",
    "# Add some text for labels, title and custom x-axis tick labels, etc.\n",
    "ax.set_ylabel('Accuracy')\n",
    "ax.set_title('Number of Steps')\n",
    "# ax.set_xticks(x + 2, steps)\n",
    "# ax.legend(loc='upper left', ncols=3)\n",
    "# ax.set_ylim(0, 250)\n",
    "\n",
    "plt.show()\n"
   ]
  }
 ],
 "metadata": {
  "kernelspec": {
   "display_name": "Python 3 (ipykernel)",
   "language": "python",
   "name": "python3"
  },
  "language_info": {
   "codemirror_mode": {
    "name": "ipython",
    "version": 3
   },
   "file_extension": ".py",
   "mimetype": "text/x-python",
   "name": "python",
   "nbconvert_exporter": "python",
   "pygments_lexer": "ipython3",
   "version": "3.12.0"
  }
 },
 "nbformat": 4,
 "nbformat_minor": 5
}
