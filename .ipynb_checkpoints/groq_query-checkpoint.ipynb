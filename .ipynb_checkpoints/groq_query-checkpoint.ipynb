{
 "cells": [
  {
   "cell_type": "code",
   "execution_count": 1,
   "id": "initial_id",
   "metadata": {
    "ExecuteTime": {
     "end_time": "2024-11-14T22:59:43.733867Z",
     "start_time": "2024-11-14T22:59:42.903646Z"
    }
   },
   "outputs": [],
   "source": [
    "import os\n",
    "import json\n",
    "from groq import Groq\n",
    "from openai import OpenAI"
   ]
  },
  {
   "cell_type": "code",
   "execution_count": 2,
   "id": "12622f39170ff809",
   "metadata": {
    "ExecuteTime": {
     "end_time": "2024-11-14T22:59:43.975403Z",
     "start_time": "2024-11-14T22:59:43.741071Z"
    }
   },
   "outputs": [],
   "source": [
    "#open dataset and store it as a JSON object\n",
    "with open('../GSM-IC/GSM-IC_2step.json', 'r') as file:\n",
    "    questions = json.load(file)"
   ]
  },
  {
   "cell_type": "code",
   "execution_count": 3,
   "id": "3c27539b0e66fc4a",
   "metadata": {
    "ExecuteTime": {
     "end_time": "2024-11-14T22:59:44.559901Z",
     "start_time": "2024-11-14T22:59:44.550873Z"
    }
   },
   "outputs": [
    {
     "data": {
      "text/plain": [
       "{'original_question': 'Steve is 5\\'6\".  He grows 6 inches.  How tall is he in inches?',\n",
       " 'answer': '72',\n",
       " 'new_question': 'Steve is 5\\'6\". He grows 6 inches. The height of Emma is 8 feet. How tall is Steve in inches?',\n",
       " 'n_steps': 2,\n",
       " 'role': 'Emma',\n",
       " 'number': '8',\n",
       " 'sentence_template': 'The height of {role} is {number} feet.',\n",
       " 'role_label': 'nonoverlapped',\n",
       " 'number_label': 'in_range',\n",
       " 'sentence_label': 'in_topic'}"
      ]
     },
     "execution_count": 3,
     "metadata": {},
     "output_type": "execute_result"
    }
   ],
   "source": [
    "#example of an entry in the dataset\n",
    "#todo: what's the point of all the keys under 'n_steps'?\n",
    "questions[0]"
   ]
  },
  {
   "cell_type": "code",
   "execution_count": 4,
   "id": "201da739b16f97e3",
   "metadata": {
    "ExecuteTime": {
     "end_time": "2024-11-14T22:59:45.030459Z",
     "start_time": "2024-11-14T22:59:44.647113Z"
    }
   },
   "outputs": [],
   "source": [
    "#initialize the Groq client. This allows us to query Llama3 (or another model) from my Groq account\n",
    "#todo: store the api_key in a secure way!\n",
    "# client = Groq(\n",
    "#     # api_key=os.environ.get(\"GROQ_API_KEY\")\n",
    "#     api_key='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'\n",
    "# )\n",
    "client = OpenAI(api_key=open(\"api.txt\").read())"
   ]
  },
  {
   "cell_type": "code",
   "execution_count": 5,
   "id": "e534e19014b21362",
   "metadata": {
    "ExecuteTime": {
     "end_time": "2024-11-14T22:59:45.049503Z",
     "start_time": "2024-11-14T22:59:45.043483Z"
    }
   },
   "outputs": [],
   "source": [
    "#todo: 1. answer_prompt is the current way of forcing the model to output its answer in predictable format. Find a better way to extract the numerical answer from the model's output. (maybe: require JSON output)\n",
    "\n",
    "#todo: 2. clean up the answer. Ex. remove $, %, inches, etc. \n",
    "\n",
    "def single_query(query):\n",
    "    \"\"\"\n",
    "    query the model with a single question\n",
    "    input: what you would type in the chat box to ask the model a question\n",
    "    output: the model's output in response to your query \n",
    "    \"\"\"\n",
    "\n",
    "    \n",
    "    answer_prompt='The last sentence of your response must be in the form \"The answer is [your answer]\".'\n",
    "    chat_completion = client.chat.completions.create(\n",
    "    messages=[\n",
    "        {\n",
    "            \"role\": \"user\",\n",
    "            \"content\": query + answer_prompt,\n",
    "        }\n",
    "    ],\n",
    "    model=\"gpt-3.5-turbo-0125\",\n",
    "    )\n",
    "    response = chat_completion.choices[0].message.content\n",
    "    return response \n"
   ]
  },
  {
   "cell_type": "code",
   "execution_count": 6,
   "id": "bf8b1d368ee3fea",
   "metadata": {
    "ExecuteTime": {
     "end_time": "2024-11-14T23:00:27.043479Z",
     "start_time": "2024-11-14T23:00:27.036942Z"
    }
   },
   "outputs": [],
   "source": [
    "#todo: shouldn't need to separate the two queries like this\n",
    "def multiple_queries(question_type='original_question', num_questions=5):\n",
    "    \"\"\"\n",
    "    query the model sequentially with multiple questions from the dataset \n",
    "    Args: question_type: specify whether to query the model with the original question or the new question \n",
    "        num_questions: the number of questions (mainly for testing a few questions at a time)\n",
    "    \n",
    "    \"\"\"\n",
    "    for idx, question in enumerate(questions):\n",
    "        if idx < num_questions:\n",
    "            query = question[question_type]\n",
    "            response = single_query(query)\n",
    "            print(response)\n",
    "            print('--------------------------------------------------')"
   ]
  },
  {
   "cell_type": "code",
   "execution_count": 7,
   "id": "e52c3dab9e207b7f",
   "metadata": {
    "ExecuteTime": {
     "end_time": "2024-11-14T23:00:31.024282Z",
     "start_time": "2024-11-14T23:00:29.968139Z"
    }
   },
   "outputs": [
    {
     "name": "stdout",
     "output_type": "stream",
     "text": [
      "Completion(id='cmpl-AUlt2uXoWnpVwvQVYAeFOmmJTGnKk', choices=[CompletionChoice(finish_reason='length', index=0, logprobs=None, text='  \\n\\nIf you told me an answer other than 6 inches, I ask you')], created=1731897280, model='davinci-002', object='text_completion', system_fingerprint=None, usage=CompletionUsage(completion_tokens=16, prompt_tokens=27, total_tokens=43, completion_tokens_details=None, prompt_tokens_details=None))\n",
      "--------------------------------------------------\n",
      "Completion(id='cmpl-AUlt38X1hWRSo65uBSnsEPf8AD6Ji', choices=[CompletionChoice(finish_reason='length', index=0, logprobs=None, text=' 7.) Answer yes or no: Are the fractions equivalent? 5\\n')], created=1731897281, model='davinci-002', object='text_completion', system_fingerprint=None, usage=CompletionUsage(completion_tokens=16, prompt_tokens=37, total_tokens=53, completion_tokens_details=None, prompt_tokens_details=None))\n",
      "--------------------------------------------------\n",
      "Completion(id='cmpl-AUlt3RsVezPcwW795CFuFuQEqjfWe', choices=[CompletionChoice(finish_reason='length', index=0, logprobs=None, text=\" *There are 5 per box.\\n*Edmund's machine which wraps the\")], created=1731897281, model='davinci-002', object='text_completion', system_fingerprint=None, usage=CompletionUsage(completion_tokens=16, prompt_tokens=51, total_tokens=67, completion_tokens_details=None, prompt_tokens_details=None))\n",
      "--------------------------------------------------\n",
      "Completion(id='cmpl-AUlt3aghMaA1UHJq9hhDboChYR8pV', choices=[CompletionChoice(finish_reason='length', index=0, logprobs=None, text=' Show your work.\\n\\n10. What value do libertarians place on tradition? Explain')], created=1731897281, model='davinci-002', object='text_completion', system_fingerprint=None, usage=CompletionUsage(completion_tokens=16, prompt_tokens=53, total_tokens=69, completion_tokens_details=None, prompt_tokens_details=None))\n",
      "--------------------------------------------------\n",
      "Completion(id='cmpl-AUlt4RBpp2hqTCMwjTPxpNw4lIe9I', choices=[CompletionChoice(finish_reason='length', index=0, logprobs=None, text=' Answer: (14)\\n\\nFunctional Arithmetic Problems - word problems that test the knowledge of')], created=1731897282, model='davinci-002', object='text_completion', system_fingerprint=None, usage=CompletionUsage(completion_tokens=16, prompt_tokens=48, total_tokens=64, completion_tokens_details=None, prompt_tokens_details=None))\n",
      "--------------------------------------------------\n"
     ]
    }
   ],
   "source": [
    "#query with relevant information only\n",
    "multiple_queries(question_type='original_question', num_questions=5)\n"
   ]
  },
  {
   "cell_type": "code",
   "execution_count": 8,
   "id": "85108cec255fa020",
   "metadata": {
    "ExecuteTime": {
     "end_time": "2024-11-14T23:00:39.711404Z",
     "start_time": "2024-11-14T23:00:38.600795Z"
    }
   },
   "outputs": [
    {
     "name": "stdout",
     "output_type": "stream",
     "text": [
      "Completion(id='cmpl-AUlt4PMSzuwb3V6fTd7JZVIbjTKuO', choices=[CompletionChoice(finish_reason='length', index=0, logprobs=None, text=' \\n3.People go to the movies right? Let me assume you go :)')], created=1731897282, model='davinci-002', object='text_completion', system_fingerprint=None, usage=CompletionUsage(completion_tokens=16, prompt_tokens=34, total_tokens=50, completion_tokens_details=None, prompt_tokens_details=None))\n",
      "--------------------------------------------------\n",
      "Completion(id='cmpl-AUlt47LINbbRtYxqoYrPmMfkXZxOK', choices=[CompletionChoice(finish_reason='length', index=0, logprobs=None, text=\" It is assumed that Jewel's magazines are sold at the same price.\\n\\nFive cards\")], created=1731897282, model='davinci-002', object='text_completion', system_fingerprint=None, usage=CompletionUsage(completion_tokens=16, prompt_tokens=46, total_tokens=62, completion_tokens_details=None, prompt_tokens_details=None))\n",
      "--------------------------------------------------\n",
      "Completion(id='cmpl-AUlt5AXMdUauqoAvzPNvSO2hibbYn', choices=[CompletionChoice(finish_reason='length', index=0, logprobs=None, text=' Draw the diagram of the shoe size on the wrapper and calculate the perimeter of the')], created=1731897283, model='davinci-002', object='text_completion', system_fingerprint=None, usage=CompletionUsage(completion_tokens=16, prompt_tokens=62, total_tokens=78, completion_tokens_details=None, prompt_tokens_details=None))\n",
      "--------------------------------------------------\n",
      "Completion(id='cmpl-AUlt5StPcQgkGMLExXsLk6lzVxXu8', choices=[CompletionChoice(finish_reason='length', index=0, logprobs=None, text=' Compare costs for Shampoo VS Soap.\\nKeywords: Write a letter from a class')], created=1731897283, model='davinci-002', object='text_completion', system_fingerprint=None, usage=CompletionUsage(completion_tokens=16, prompt_tokens=62, total_tokens=78, completion_tokens_details=None, prompt_tokens_details=None))\n",
      "--------------------------------------------------\n",
      "Completion(id='cmpl-AUlt61duUOi3EmBR1vnnbn6Wkp4jI', choices=[CompletionChoice(finish_reason='length', index=0, logprobs=None, text=' Discuss your answers in your groups.\\n\\nBased on your answer, tell statement and evidence')], created=1731897284, model='davinci-002', object='text_completion', system_fingerprint=None, usage=CompletionUsage(completion_tokens=16, prompt_tokens=58, total_tokens=74, completion_tokens_details=None, prompt_tokens_details=None))\n",
      "--------------------------------------------------\n"
     ]
    }
   ],
   "source": [
    "#query with irrelevant information included\n",
    "#todo: merge with querying 'original_question' to more easily compare differences in model output\n",
    "multiple_queries(question_type='new_question', num_questions=5)"
   ]
  },
  {
   "cell_type": "code",
   "execution_count": 9,
   "id": "3ca8421c116df2d5",
   "metadata": {},
   "outputs": [],
   "source": [
    "#todo: shouldn't need to separate the two queries like this\n",
    "def get_answers(question_type='original_question', num_questions=5):\n",
    "    \"\"\"\n",
    "    query the model sequentially with multiple questions from the dataset \n",
    "    Args: question_type: specify whether to query the model with the original question or the new question \n",
    "        num_questions: the number of questions (mainly for testing a few questions at a time)\n",
    "    \n",
    "    \"\"\"\n",
    "    for idx, question in enumerate(questions):\n",
    "        if idx < num_questions:\n",
    "            query = question[question_type]\n",
    "            response = single_query(query)\n",
    "            # print(response)\n",
    "            try:\n",
    "                answer = response.split(\"he answer is\")[1].strip(\"$\")\n",
    "                print(question['answer'], answer)\n",
    "            except:\n",
    "                print(response, question['answer'])\n",
    "                # input()"
   ]
  },
  {
   "cell_type": "code",
   "execution_count": 10,
   "id": "4e06018c-2348-4b5f-9039-1ce1d168cb43",
   "metadata": {},
   "outputs": [
    {
     "name": "stdout",
     "output_type": "stream",
     "text": [
      "Completion(id='cmpl-AUlt6b1yFIbpQiJ5ejU1GpeOYrtPu', choices=[CompletionChoice(finish_reason='length', index=0, logprobs=None, text=' -Note: please show computations as I am supposed to write these questions myself after')], created=1731897284, model='davinci-002', object='text_completion', system_fingerprint=None, usage=CompletionUsage(completion_tokens=16, prompt_tokens=34, total_tokens=50, completion_tokens_details=None, prompt_tokens_details=None)) 72\n",
      "Completion(id='cmpl-AUlt64XaDgaab0xvSPxoGahFgYVoY', choices=[CompletionChoice(finish_reason='length', index=0, logprobs=None, text='\\u200b\\n\\nAnswers: 1\\n\\ncontinue\\n\\nAn investor has a budget of $200')], created=1731897284, model='davinci-002', object='text_completion', system_fingerprint=None, usage=CompletionUsage(completion_tokens=16, prompt_tokens=46, total_tokens=62, completion_tokens_details=None, prompt_tokens_details=None)) 5\n",
      "Completion(id='cmpl-AUlt7eI3azhoXDi8Bmwu58Ov7EqFw', choices=[CompletionChoice(finish_reason='length', index=0, logprobs=None, text=' (Please follow all the steps !!. Thank You :D)\\n\\n1. Answer')], created=1731897285, model='davinci-002', object='text_completion', system_fingerprint=None, usage=CompletionUsage(completion_tokens=16, prompt_tokens=62, total_tokens=78, completion_tokens_details=None, prompt_tokens_details=None)) 15\n",
      "Completion(id='cmpl-AUlt8Fquwri5d4EhoARXEistAGhCy', choices=[CompletionChoice(finish_reason='length', index=0, logprobs=None, text='*\\n\\nEven the totally phrase-oriented-perpetual-internet-downloaders will have a')], created=1731897286, model='davinci-002', object='text_completion', system_fingerprint=None, usage=CompletionUsage(completion_tokens=16, prompt_tokens=62, total_tokens=78, completion_tokens_details=None, prompt_tokens_details=None)) 48\n",
      "Completion(id='cmpl-AUlt8dUXe4Igidjpn4SxmZL3y0mMK', choices=[CompletionChoice(finish_reason='length', index=0, logprobs=None, text=' Can you provide a mathematical solution? What could the strategy be? Next question:')], created=1731897286, model='davinci-002', object='text_completion', system_fingerprint=None, usage=CompletionUsage(completion_tokens=16, prompt_tokens=58, total_tokens=74, completion_tokens_details=None, prompt_tokens_details=None)) 4\n",
      "Completion(id='cmpl-AUlt8D07XxLhgm5UbT3TrKwELVtlF', choices=[CompletionChoice(finish_reason='length', index=0, logprobs=None, text=' [mathgasm] [mathgasm2] [/mathgasm]')], created=1731897286, model='davinci-002', object='text_completion', system_fingerprint=None, usage=CompletionUsage(completion_tokens=16, prompt_tokens=56, total_tokens=72, completion_tokens_details=None, prompt_tokens_details=None)) 100\n",
      "Completion(id='cmpl-AUlt9jWJ4sHC6xidmGj2NvkJbZzXT', choices=[CompletionChoice(finish_reason='length', index=0, logprobs=None, text=' A. 1.254 thousand, 300 and 1200 sweets each')], created=1731897287, model='davinci-002', object='text_completion', system_fingerprint=None, usage=CompletionUsage(completion_tokens=16, prompt_tokens=59, total_tokens=75, completion_tokens_details=None, prompt_tokens_details=None)) 256\n",
      "Completion(id='cmpl-AUlt9oc08CxLRAeEhULKWC8yJEump', choices=[CompletionChoice(finish_reason='length', index=0, logprobs=None, text='A gift box is 4 inches by 4 inches by 4 inchesX')], created=1731897287, model='davinci-002', object='text_completion', system_fingerprint=None, usage=CompletionUsage(completion_tokens=16, prompt_tokens=59, total_tokens=75, completion_tokens_details=None, prompt_tokens_details=None)) 15\n",
      "Completion(id='cmpl-AUlt9Kp6RUZMcPPKWJSjZZETHXlJw', choices=[CompletionChoice(finish_reason='length', index=0, logprobs=None, text=' (For this problem, you will work for 15 minutes.) Page 10')], created=1731897287, model='davinci-002', object='text_completion', system_fingerprint=None, usage=CompletionUsage(completion_tokens=16, prompt_tokens=36, total_tokens=52, completion_tokens_details=None, prompt_tokens_details=None)) 72\n",
      "Completion(id='cmpl-AUltAtj4OlKrQrCxamj3lT88ZQoGh', choices=[CompletionChoice(finish_reason='length', index=0, logprobs=None, text=' You are encouraged to add half way calculations as you go along! An Excel spreadsheet')], created=1731897288, model='davinci-002', object='text_completion', system_fingerprint=None, usage=CompletionUsage(completion_tokens=16, prompt_tokens=68, total_tokens=84, completion_tokens_details=None, prompt_tokens_details=None)) 918\n",
      "Completion(id='cmpl-AUltAQWCamsSFIvTalFfb5xEt1fyJ', choices=[CompletionChoice(finish_reason='length', index=0, logprobs=None, text='Nature of business: IT solution, selling mobile phones and office services.Number of employees')], created=1731897288, model='davinci-002', object='text_completion', system_fingerprint=None, usage=CompletionUsage(completion_tokens=16, prompt_tokens=63, total_tokens=79, completion_tokens_details=None, prompt_tokens_details=None)) 16\n",
      "Completion(id='cmpl-AUltAsrIe1gh7CDtRcYXqdZtuKXzP', choices=[CompletionChoice(finish_reason='length', index=0, logprobs=None, text=' \\n1982 National Olympiad \\nM.01\\n(Slovak 1981')], created=1731897288, model='davinci-002', object='text_completion', system_fingerprint=None, usage=CompletionUsage(completion_tokens=16, prompt_tokens=56, total_tokens=72, completion_tokens_details=None, prompt_tokens_details=None)) 24\n",
      "Completion(id='cmpl-AUltBpJWDvLMbh3ZofzpX5sYxI58F', choices=[CompletionChoice(finish_reason='length', index=0, logprobs=None, text=' 4) C 5) A 6) B 7) D')], created=1731897289, model='davinci-002', object='text_completion', system_fingerprint=None, usage=CompletionUsage(completion_tokens=16, prompt_tokens=78, total_tokens=94, completion_tokens_details=None, prompt_tokens_details=None)) 8\n",
      "Completion(id='cmpl-AUltBc3TblMnxk5Nxs9NXb7PB6MeA', choices=[CompletionChoice(finish_reason='length', index=0, logprobs=None, text=' 20 I have 5 minutes. Bill has 15 apples and 2')], created=1731897289, model='davinci-002', object='text_completion', system_fingerprint=None, usage=CompletionUsage(completion_tokens=16, prompt_tokens=57, total_tokens=73, completion_tokens_details=None, prompt_tokens_details=None)) 25\n",
      "Completion(id='cmpl-AUltCgqiHdW74AIugJ2gMKRnKSlP5', choices=[CompletionChoice(finish_reason='length', index=0, logprobs=None, text=' A. 6 B. 5 C.10 D12\\n\\nIf $')], created=1731897290, model='davinci-002', object='text_completion', system_fingerprint=None, usage=CompletionUsage(completion_tokens=16, prompt_tokens=60, total_tokens=76, completion_tokens_details=None, prompt_tokens_details=None)) 15\n",
      "Completion(id='cmpl-AUltC1biSN7f1AMJRJ6IxqfWgvYmT', choices=[CompletionChoice(finish_reason='length', index=0, logprobs=None, text=' Internet Marketing\\n\\nSubmit your assignment.\\n\\nWhy Work with Us\\n\\nTry it now!\\n\\n')], created=1731897290, model='davinci-002', object='text_completion', system_fingerprint=None, usage=CompletionUsage(completion_tokens=16, prompt_tokens=46, total_tokens=62, completion_tokens_details=None, prompt_tokens_details=None)) 76\n",
      "Completion(id='cmpl-AUltCeXYHv7dIsx7bLAjT2G9pl6MA', choices=[CompletionChoice(finish_reason='length', index=0, logprobs=None, text=' What type of perimeter is it? \\n\\n4 Example 2 Solve the perimeter equation')], created=1731897290, model='davinci-002', object='text_completion', system_fingerprint=None, usage=CompletionUsage(completion_tokens=16, prompt_tokens=72, total_tokens=88, completion_tokens_details=None, prompt_tokens_details=None)) 141\n",
      "Completion(id='cmpl-AUltDzbVbParOtVcYYHh9KbybEQKI', choices=[CompletionChoice(finish_reason='stop', index=0, logprobs=None, text='')], created=1731897291, model='davinci-002', object='text_completion', system_fingerprint=None, usage=CompletionUsage(completion_tokens=None, prompt_tokens=58, total_tokens=58, completion_tokens_details=None, prompt_tokens_details=None)) 800\n",
      "Completion(id='cmpl-AUltDBag4H5EKu0SBZkmbB0NUorPE', choices=[CompletionChoice(finish_reason='length', index=0, logprobs=None, text=' 1. e 45% of 2 kg. 2. b')], created=1731897291, model='davinci-002', object='text_completion', system_fingerprint=None, usage=CompletionUsage(completion_tokens=16, prompt_tokens=68, total_tokens=84, completion_tokens_details=None, prompt_tokens_details=None)) 16\n",
      "Completion(id='cmpl-AUltD2OKl6lcfQJdajQ8LRkYU9A3V', choices=[CompletionChoice(finish_reason='length', index=0, logprobs=None, text=' (The answer is none of above) Sanskrit\\n\\nDisplay each sentence in a')], created=1731897291, model='davinci-002', object='text_completion', system_fingerprint=None, usage=CompletionUsage(completion_tokens=16, prompt_tokens=57, total_tokens=73, completion_tokens_details=None, prompt_tokens_details=None)) 48\n",
      "Completion(id='cmpl-AUltExay4ImGj9qpwtzl8XOrQgIpg', choices=[CompletionChoice(finish_reason='stop', index=0, logprobs=None, text='')], created=1731897292, model='davinci-002', object='text_completion', system_fingerprint=None, usage=CompletionUsage(completion_tokens=None, prompt_tokens=48, total_tokens=48, completion_tokens_details=None, prompt_tokens_details=None)) 2000\n",
      "Completion(id='cmpl-AUltEZv4OQOPYnWMDmltL2QCnUQJ3', choices=[CompletionChoice(finish_reason='length', index=0, logprobs=None, text=' a)11\\n2 . Solve the following problem: A total of $20')], created=1731897292, model='davinci-002', object='text_completion', system_fingerprint=None, usage=CompletionUsage(completion_tokens=16, prompt_tokens=57, total_tokens=73, completion_tokens_details=None, prompt_tokens_details=None)) 22\n",
      "Completion(id='cmpl-AUltEzoGp41M0AXU8zU5UKgRs6FY8', choices=[CompletionChoice(finish_reason='length', index=0, logprobs=None, text=' How much does Jackie … Continue reading →\\n\\nHow is the fitness level calculated? Chapter')], created=1731897292, model='davinci-002', object='text_completion', system_fingerprint=None, usage=CompletionUsage(completion_tokens=16, prompt_tokens=45, total_tokens=61, completion_tokens_details=None, prompt_tokens_details=None)) 5\n",
      "Completion(id='cmpl-AUltFsFa332WJRqT9L6ANGMrgsUit', choices=[CompletionChoice(finish_reason='length', index=0, logprobs=None, text=' Show me why this equation works. Answer the\\n\\nRuben makes $11 per')], created=1731897293, model='davinci-002', object='text_completion', system_fingerprint=None, usage=CompletionUsage(completion_tokens=16, prompt_tokens=41, total_tokens=57, completion_tokens_details=None, prompt_tokens_details=None)) 2000\n",
      "Completion(id='cmpl-AUltFuV266vmLojftObjsm4WPvIYR', choices=[CompletionChoice(finish_reason='length', index=0, logprobs=None, text=' Explain your answer.\\n\\n6. Enrollment Officer. Read the last leaflet.\\n\\nEverything')], created=1731897293, model='davinci-002', object='text_completion', system_fingerprint=None, usage=CompletionUsage(completion_tokens=16, prompt_tokens=77, total_tokens=93, completion_tokens_details=None, prompt_tokens_details=None)) 141\n",
      "Completion(id='cmpl-AUltFGvYrAcHjFfARHA5kHN9PmGdl', choices=[CompletionChoice(finish_reason='length', index=0, logprobs=None, text=' Explain your answer. There are two ways. This way uses multiplication of fractions,')], created=1731897293, model='davinci-002', object='text_completion', system_fingerprint=None, usage=CompletionUsage(completion_tokens=16, prompt_tokens=75, total_tokens=91, completion_tokens_details=None, prompt_tokens_details=None)) 141\n",
      "Completion(id='cmpl-AUltGCytXopXLBFknP1nnspCKKvII', choices=[CompletionChoice(finish_reason='length', index=0, logprobs=None, text=' The correct answer is 60.\\n\\nQuestion: Justin is managing a chess tournament for')], created=1731897294, model='davinci-002', object='text_completion', system_fingerprint=None, usage=CompletionUsage(completion_tokens=16, prompt_tokens=53, total_tokens=69, completion_tokens_details=None, prompt_tokens_details=None)) 14\n",
      "Completion(id='cmpl-AUltGUnDzHSoBoFvAolFqEGez4aPp', choices=[CompletionChoice(finish_reason='length', index=0, logprobs=None, text=' (It\\'s a hidden message including \"weight\")....can be solved\\n\\nal')], created=1731897294, model='davinci-002', object='text_completion', system_fingerprint=None, usage=CompletionUsage(completion_tokens=16, prompt_tokens=47, total_tokens=63, completion_tokens_details=None, prompt_tokens_details=None)) 60\n",
      "Completion(id='cmpl-AUltHdVMbrsu0hNdRvbzw8VIiKbom', choices=[CompletionChoice(finish_reason='length', index=0, logprobs=None, text=' Who is Hiawatha and why does Thoreau tell us this?\\n\\nDirections')], created=1731897295, model='davinci-002', object='text_completion', system_fingerprint=None, usage=CompletionUsage(completion_tokens=16, prompt_tokens=61, total_tokens=77, completion_tokens_details=None, prompt_tokens_details=None)) 25\n",
      "Completion(id='cmpl-AUltHgtgd079mCEiTCGFHolJ2UzM8', choices=[CompletionChoice(finish_reason='length', index=0, logprobs=None, text=' Use the money sense strategy. Explain your answer.\\n\\nLatest answer by Richard S.')], created=1731897295, model='davinci-002', object='text_completion', system_fingerprint=None, usage=CompletionUsage(completion_tokens=16, prompt_tokens=45, total_tokens=61, completion_tokens_details=None, prompt_tokens_details=None)) 5\n",
      "Completion(id='cmpl-AUltHQIEk3JcSCukNKi7t91RsC1em', choices=[CompletionChoice(finish_reason='length', index=0, logprobs=None, text=' Practice the numbers 1 through 94 117 259 429 213')], created=1731897295, model='davinci-002', object='text_completion', system_fingerprint=None, usage=CompletionUsage(completion_tokens=16, prompt_tokens=37, total_tokens=53, completion_tokens_details=None, prompt_tokens_details=None)) 72\n",
      "Completion(id='cmpl-AUltIWbfKP3FJOqKkcEluFsu39va9', choices=[CompletionChoice(finish_reason='length', index=0, logprobs=None, text=' A) $30,000 B) $40,000 C) This information')], created=1731897296, model='davinci-002', object='text_completion', system_fingerprint=None, usage=CompletionUsage(completion_tokens=16, prompt_tokens=61, total_tokens=77, completion_tokens_details=None, prompt_tokens_details=None)) 800\n",
      "Completion(id='cmpl-AUltInPUB4qFSaEG4gGUnjBOcqHPC', choices=[CompletionChoice(finish_reason='length', index=0, logprobs=None, text=' All necessary provisio Reading comprehension questions: This lesson provides 10 reading comprehension')], created=1731897296, model='davinci-002', object='text_completion', system_fingerprint=None, usage=CompletionUsage(completion_tokens=16, prompt_tokens=59, total_tokens=75, completion_tokens_details=None, prompt_tokens_details=None)) 9\n",
      "Completion(id='cmpl-AUltIIkLLp2nBe0GWBuQx4oQcPWwQ', choices=[CompletionChoice(finish_reason='length', index=0, logprobs=None, text=' Ans: The answer is. She had 20 - 4 = 16')], created=1731897296, model='davinci-002', object='text_completion', system_fingerprint=None, usage=CompletionUsage(completion_tokens=16, prompt_tokens=58, total_tokens=74, completion_tokens_details=None, prompt_tokens_details=None)) 22\n",
      "Completion(id='cmpl-AUltJiwY1qlk51ViCkxzUjOlqUEs6', choices=[CompletionChoice(finish_reason='length', index=0, logprobs=None, text=' 2. Circle the word that describes the relationship between the two sets of data')], created=1731897297, model='davinci-002', object='text_completion', system_fingerprint=None, usage=CompletionUsage(completion_tokens=16, prompt_tokens=57, total_tokens=73, completion_tokens_details=None, prompt_tokens_details=None)) 25\n",
      "Completion(id='cmpl-AUltJmzQd1tqC2DKKvSNiJ5KlPfOW', choices=[CompletionChoice(finish_reason='length', index=0, logprobs=None, text=' Harry Fibber, 78, has allow the gas tank in his 201')], created=1731897297, model='davinci-002', object='text_completion', system_fingerprint=None, usage=CompletionUsage(completion_tokens=16, prompt_tokens=76, total_tokens=92, completion_tokens_details=None, prompt_tokens_details=None)) 918\n",
      "Completion(id='cmpl-AUltJnMv1dVUH7RyBQuMYxwtwSqhU', choices=[CompletionChoice(finish_reason='length', index=0, logprobs=None, text=' Allow __________ minutes for this question.\\n\\n4. Part B\\n\\nLead learners in')], created=1731897297, model='davinci-002', object='text_completion', system_fingerprint=None, usage=CompletionUsage(completion_tokens=16, prompt_tokens=62, total_tokens=78, completion_tokens_details=None, prompt_tokens_details=None)) 15\n",
      "Completion(id='cmpl-AUltKurnOU2Xqs2zg1YJTbTKZKkJG', choices=[CompletionChoice(finish_reason='length', index=0, logprobs=None, text=' (Hint: There are 7 days in a week.)\\n\\nMy conclusion : The')], created=1731897298, model='davinci-002', object='text_completion', system_fingerprint=None, usage=CompletionUsage(completion_tokens=16, prompt_tokens=44, total_tokens=60, completion_tokens_details=None, prompt_tokens_details=None)) 42\n",
      "Completion(id='cmpl-AUltKIBZvEM6coWJV24dg2qbTN6eH', choices=[CompletionChoice(finish_reason='length', index=0, logprobs=None, text=' There are many ways to solve this riddle. Answer. 550.\\n\\nP')], created=1731897298, model='davinci-002', object='text_completion', system_fingerprint=None, usage=CompletionUsage(completion_tokens=16, prompt_tokens=61, total_tokens=77, completion_tokens_details=None, prompt_tokens_details=None)) 11\n",
      "Completion(id='cmpl-AUltLM172qoAXjlCfyGKI8wOsUcda', choices=[CompletionChoice(finish_reason='length', index=0, logprobs=None, text=' TSI Practice Test Mathematical Reasoning Parts 1 and 2 . Identify the')], created=1731897299, model='davinci-002', object='text_completion', system_fingerprint=None, usage=CompletionUsage(completion_tokens=16, prompt_tokens=56, total_tokens=72, completion_tokens_details=None, prompt_tokens_details=None)) 256\n",
      "Completion(id='cmpl-AUltLci2NGblsmwFQ4NtnDs8e3T3e', choices=[CompletionChoice(finish_reason='length', index=0, logprobs=None, text=' Explain what you did and how you got your answer.\\nExample 5\\nAss')], created=1731897299, model='davinci-002', object='text_completion', system_fingerprint=None, usage=CompletionUsage(completion_tokens=16, prompt_tokens=51, total_tokens=67, completion_tokens_details=None, prompt_tokens_details=None)) 2750\n",
      "Completion(id='cmpl-AUltLODDJFCgvH7cByyVpdCfMEDug', choices=[CompletionChoice(finish_reason='length', index=0, logprobs=None, text=' A. 12 years old B. 14 years old C. 18')], created=1731897299, model='davinci-002', object='text_completion', system_fingerprint=None, usage=CompletionUsage(completion_tokens=16, prompt_tokens=42, total_tokens=58, completion_tokens_details=None, prompt_tokens_details=None)) 24\n",
      "Completion(id='cmpl-AUltMbxVLY8rAnUwPDMgwCvDxWZAx', choices=[CompletionChoice(finish_reason='length', index=0, logprobs=None, text=' (Give the final answers in the form : a, m ,for an,')], created=1731897300, model='davinci-002', object='text_completion', system_fingerprint=None, usage=CompletionUsage(completion_tokens=16, prompt_tokens=53, total_tokens=69, completion_tokens_details=None, prompt_tokens_details=None)) 20\n",
      "Completion(id='cmpl-AUltMuzvUbaf5wFaYaiWBp9MuCtqz', choices=[CompletionChoice(finish_reason='length', index=0, logprobs=None, text=' Explain how you are getting the number. We were only interested in the friends who')], created=1731897300, model='davinci-002', object='text_completion', system_fingerprint=None, usage=CompletionUsage(completion_tokens=16, prompt_tokens=57, total_tokens=73, completion_tokens_details=None, prompt_tokens_details=None)) 22\n",
      "Completion(id='cmpl-AUltMXzkJQMtzSYrWsPY79SVdWbvw', choices=[CompletionChoice(finish_reason='length', index=0, logprobs=None, text=' a. Add the total number of carrots (tomatoes) pulled from all three')], created=1731897300, model='davinci-002', object='text_completion', system_fingerprint=None, usage=CompletionUsage(completion_tokens=16, prompt_tokens=93, total_tokens=109, completion_tokens_details=None, prompt_tokens_details=None)) 39\n",
      "Completion(id='cmpl-AUltNMvuLLZmIJdF9j153KW8AdA9T', choices=[CompletionChoice(finish_reason='length', index=0, logprobs=None, text=' Show your work.\\n\\nAn enterprise came up with such a modified advertising rule that it')], created=1731897301, model='davinci-002', object='text_completion', system_fingerprint=None, usage=CompletionUsage(completion_tokens=16, prompt_tokens=70, total_tokens=86, completion_tokens_details=None, prompt_tokens_details=None)) 11\n",
      "Completion(id='cmpl-AUltNPRUsBrnczI2jnepFM4aWvPVU', choices=[CompletionChoice(finish_reason='length', index=0, logprobs=None, text=' Use the evidence to decide if the claim in the riddle was a fair or')], created=1731897301, model='davinci-002', object='text_completion', system_fingerprint=None, usage=CompletionUsage(completion_tokens=16, prompt_tokens=60, total_tokens=76, completion_tokens_details=None, prompt_tokens_details=None)) 60\n",
      "Completion(id='cmpl-AUltOVHahhU5RanafDDdKAXkzMv1q', choices=[CompletionChoice(finish_reason='length', index=0, logprobs=None, text=' – xjuz answer – 11:59.\\n\\nWhat is 5 deep')], created=1731897302, model='davinci-002', object='text_completion', system_fingerprint=None, usage=CompletionUsage(completion_tokens=16, prompt_tokens=70, total_tokens=86, completion_tokens_details=None, prompt_tokens_details=None)) 9\n",
      "Completion(id='cmpl-AUltOJdTCg7GOcJBZuf1AecPAPQVR', choices=[CompletionChoice(finish_reason='length', index=0, logprobs=None, text=' (Kendra made 45 and Sue made 16) Level 5/common')], created=1731897302, model='davinci-002', object='text_completion', system_fingerprint=None, usage=CompletionUsage(completion_tokens=16, prompt_tokens=51, total_tokens=67, completion_tokens_details=None, prompt_tokens_details=None)) 22\n",
      "Completion(id='cmpl-AUltOkJUzyApGn8io5gBOWHHbucMf', choices=[CompletionChoice(finish_reason='length', index=0, logprobs=None, text=' Modal Passive\\n\\n10 1st step:Change all \"\" into \"\" 2')], created=1731897302, model='davinci-002', object='text_completion', system_fingerprint=None, usage=CompletionUsage(completion_tokens=16, prompt_tokens=60, total_tokens=76, completion_tokens_details=None, prompt_tokens_details=None)) 22\n",
      "Completion(id='cmpl-AUltPMChR6jAGvuW0lMDYNjUDquDB', choices=[CompletionChoice(finish_reason='length', index=0, logprobs=None, text=' Answer 1: New rule! Answer 2: $2500. Answer')], created=1731897303, model='davinci-002', object='text_completion', system_fingerprint=None, usage=CompletionUsage(completion_tokens=16, prompt_tokens=44, total_tokens=60, completion_tokens_details=None, prompt_tokens_details=None)) 2750\n",
      "Completion(id='cmpl-AUltPtSTcOKY0seCuh4z4F7OFOCmg', choices=[CompletionChoice(finish_reason='length', index=0, logprobs=None, text=' How much did Ada pay? I got an answer key, where did you get')], created=1731897303, model='davinci-002', object='text_completion', system_fingerprint=None, usage=CompletionUsage(completion_tokens=16, prompt_tokens=40, total_tokens=56, completion_tokens_details=None, prompt_tokens_details=None)) 60\n",
      "Completion(id='cmpl-AUltPj5e5k7e6idWKIvtNBiwfsorw', choices=[CompletionChoice(finish_reason='stop', index=0, logprobs=None, text='')], created=1731897303, model='davinci-002', object='text_completion', system_fingerprint=None, usage=CompletionUsage(completion_tokens=None, prompt_tokens=63, total_tokens=63, completion_tokens_details=None, prompt_tokens_details=None)) 1\n",
      "Completion(id='cmpl-AUltQUfaX0DyicK3xXc17sijA4BYh', choices=[CompletionChoice(finish_reason='length', index=0, logprobs=None, text=' (2 extra marks)\\n\\nWorked Solution\\n\\nQuestion 21\\n\\nHal bought a')], created=1731897304, model='davinci-002', object='text_completion', system_fingerprint=None, usage=CompletionUsage(completion_tokens=16, prompt_tokens=46, total_tokens=62, completion_tokens_details=None, prompt_tokens_details=None)) 5\n",
      "Completion(id='cmpl-AUltQaGpnzo6hzXZlyNZhn3uwMhSc', choices=[CompletionChoice(finish_reason='length', index=0, logprobs=None, text=' A) He has to buy 15\\n\\n7\\n\\nDavid asked Jeopardy')], created=1731897304, model='davinci-002', object='text_completion', system_fingerprint=None, usage=CompletionUsage(completion_tokens=16, prompt_tokens=73, total_tokens=89, completion_tokens_details=None, prompt_tokens_details=None)) 141\n",
      "Completion(id='cmpl-AUltR0TURDeJ77t5FrrpFWFtUHsJH', choices=[CompletionChoice(finish_reason='length', index=0, logprobs=None, text=' Explain how you got your answer.\\n\\n(1 mark)\\n\\nSalem loves to write')], created=1731897305, model='davinci-002', object='text_completion', system_fingerprint=None, usage=CompletionUsage(completion_tokens=16, prompt_tokens=76, total_tokens=92, completion_tokens_details=None, prompt_tokens_details=None)) 1600\n",
      "Completion(id='cmpl-AUltRBKViVDokrCLchpz1VDDQgEna', choices=[CompletionChoice(finish_reason='length', index=0, logprobs=None, text=' Explain how you figured it out. Write a story problem with a solution illustrating these')], created=1731897305, model='davinci-002', object='text_completion', system_fingerprint=None, usage=CompletionUsage(completion_tokens=16, prompt_tokens=84, total_tokens=100, completion_tokens_details=None, prompt_tokens_details=None)) 8\n",
      "Completion(id='cmpl-AUltRPH9cNQldCwYJ1PeB1nl7Rvku', choices=[CompletionChoice(finish_reason='length', index=0, logprobs=None, text=' The question requires calculating the rate of change from 5\\'6\" to ')], created=1731897305, model='davinci-002', object='text_completion', system_fingerprint=None, usage=CompletionUsage(completion_tokens=16, prompt_tokens=34, total_tokens=50, completion_tokens_details=None, prompt_tokens_details=None)) 72\n",
      "Completion(id='cmpl-AUltSIXTabJXXNKcKdUuwg2rDWssA', choices=[CompletionChoice(finish_reason='stop', index=0, logprobs=None, text='')], created=1731897306, model='davinci-002', object='text_completion', system_fingerprint=None, usage=CompletionUsage(completion_tokens=None, prompt_tokens=94, total_tokens=94, completion_tokens_details=None, prompt_tokens_details=None)) 39\n",
      "Completion(id='cmpl-AUltSEEIGaiV0e2UHnGXCCej2ccmn', choices=[CompletionChoice(finish_reason='stop', index=0, logprobs=None, text='')], created=1731897306, model='davinci-002', object='text_completion', system_fingerprint=None, usage=CompletionUsage(completion_tokens=None, prompt_tokens=38, total_tokens=38, completion_tokens_details=None, prompt_tokens_details=None)) 42\n",
      "Completion(id='cmpl-AUltSdb8tQFSsJNcwXeRSk7q91ygh', choices=[CompletionChoice(finish_reason='length', index=0, logprobs=None, text=\" The label on Jenifer's car speaks of imperial measure. 3 wheels and\")], created=1731897306, model='davinci-002', object='text_completion', system_fingerprint=None, usage=CompletionUsage(completion_tokens=16, prompt_tokens=56, total_tokens=72, completion_tokens_details=None, prompt_tokens_details=None)) 256\n",
      "Completion(id='cmpl-AUltTOjrEdXasjhkvm3jR6qh8RA9M', choices=[CompletionChoice(finish_reason='stop', index=0, logprobs=None, text='Down below sites to help you find the info you need.')], created=1731897307, model='davinci-002', object='text_completion', system_fingerprint=None, usage=CompletionUsage(completion_tokens=12, prompt_tokens=53, total_tokens=65, completion_tokens_details=None, prompt_tokens_details=None)) 14\n",
      "Completion(id='cmpl-AUltT90Z6QS3kfGfbgoUfnFthRJG8', choices=[CompletionChoice(finish_reason='length', index=0, logprobs=None, text=' Put the answer in the box on the left. Use scratch work to solve the')], created=1731897307, model='davinci-002', object='text_completion', system_fingerprint=None, usage=CompletionUsage(completion_tokens=16, prompt_tokens=53, total_tokens=69, completion_tokens_details=None, prompt_tokens_details=None)) 100\n",
      "Completion(id='cmpl-AUltTeSJCN8jgqk9zi4sYmitFTz6z', choices=[CompletionChoice(finish_reason='length', index=0, logprobs=None, text='BTW, had you watched this ad until the end, I would have accelerated')], created=1731897307, model='davinci-002', object='text_completion', system_fingerprint=None, usage=CompletionUsage(completion_tokens=16, prompt_tokens=77, total_tokens=93, completion_tokens_details=None, prompt_tokens_details=None)) 66\n",
      "Completion(id='cmpl-AUltUJ7hOGcf5RyIrf5ZkUHp55pkm', choices=[CompletionChoice(finish_reason='length', index=0, logprobs=None, text=\" Basically - what's the question asking? • Work out what the question requires and\")], created=1731897308, model='davinci-002', object='text_completion', system_fingerprint=None, usage=CompletionUsage(completion_tokens=16, prompt_tokens=47, total_tokens=63, completion_tokens_details=None, prompt_tokens_details=None)) 14\n",
      "Completion(id='cmpl-AUltUarLum1YOIvhvDHxXwZNOGx1u', choices=[CompletionChoice(finish_reason='length', index=0, logprobs=None, text=' MSP 4.2 student center; answers in the back. Look on page')], created=1731897308, model='davinci-002', object='text_completion', system_fingerprint=None, usage=CompletionUsage(completion_tokens=16, prompt_tokens=74, total_tokens=90, completion_tokens_details=None, prompt_tokens_details=None)) 12\n",
      "Completion(id='cmpl-AUltUHERSSvZOMDc9pC6KvMpDryp8', choices=[CompletionChoice(finish_reason='length', index=0, logprobs=None, text=' 7 t-shirts W R I T E E Q UAT I O N')], created=1731897308, model='davinci-002', object='text_completion', system_fingerprint=None, usage=CompletionUsage(completion_tokens=16, prompt_tokens=41, total_tokens=57, completion_tokens_details=None, prompt_tokens_details=None)) 60\n",
      "Completion(id='cmpl-AUltVcRlLDzHyR2Ek4pd31q0KxCtq', choices=[CompletionChoice(finish_reason='length', index=0, logprobs=None, text='○12 twice Nathalie○8○6 (correct answer)')], created=1731897309, model='davinci-002', object='text_completion', system_fingerprint=None, usage=CompletionUsage(completion_tokens=16, prompt_tokens=55, total_tokens=71, completion_tokens_details=None, prompt_tokens_details=None)) 100\n",
      "Completion(id='cmpl-AUltVYTzcfLAVOuiFYdNqc8ZdEe7I', choices=[CompletionChoice(finish_reason='length', index=0, logprobs=None, text=\" (Consider the rate of change and initial values) Solution: \\n\\n13 Justin's\")], created=1731897309, model='davinci-002', object='text_completion', system_fingerprint=None, usage=CompletionUsage(completion_tokens=16, prompt_tokens=52, total_tokens=68, completion_tokens_details=None, prompt_tokens_details=None)) 150\n",
      "Completion(id='cmpl-AUltVPu4xhy3sa3j2sAqrRWhsXzbQ', choices=[CompletionChoice(finish_reason='length', index=0, logprobs=None, text=' (#837)\\n\\nPlease see Kristin for her Siddur (prayer book)\\n\\n')], created=1731897309, model='davinci-002', object='text_completion', system_fingerprint=None, usage=CompletionUsage(completion_tokens=16, prompt_tokens=59, total_tokens=75, completion_tokens_details=None, prompt_tokens_details=None)) 22\n",
      "Completion(id='cmpl-AUltWMUSjtvor2wOqzZSqnCtkNIFw', choices=[CompletionChoice(finish_reason='length', index=0, logprobs=None, text=' Excel 1998 torrent If iona took a Hybrid car instead of her SUV')], created=1731897310, model='davinci-002', object='text_completion', system_fingerprint=None, usage=CompletionUsage(completion_tokens=16, prompt_tokens=77, total_tokens=93, completion_tokens_details=None, prompt_tokens_details=None)) 8\n",
      "Completion(id='cmpl-AUltWsTxpwCGgjBxm2W6cooQMr03M', choices=[CompletionChoice(finish_reason='length', index=0, logprobs=None, text=' (Move your pointer to the image above or here , then click the image or')], created=1731897310, model='davinci-002', object='text_completion', system_fingerprint=None, usage=CompletionUsage(completion_tokens=16, prompt_tokens=78, total_tokens=94, completion_tokens_details=None, prompt_tokens_details=None)) 1600\n",
      "Completion(id='cmpl-AUltXvjlIAB58ziH0jenp9UAiMtlo', choices=[CompletionChoice(finish_reason='length', index=0, logprobs=None, text=' How tall is Ad\\n\\nA company cans products in tin cans. each can holds')], created=1731897311, model='davinci-002', object='text_completion', system_fingerprint=None, usage=CompletionUsage(completion_tokens=16, prompt_tokens=34, total_tokens=50, completion_tokens_details=None, prompt_tokens_details=None)) 72\n",
      "Completion(id='cmpl-AUltXhluydDlr9tQdrRWhVPNQBeyJ', choices=[CompletionChoice(finish_reason='length', index=0, logprobs=None, text=' 57\\n\\nJude, Samia, Irma and Elham shared 50')], created=1731897311, model='davinci-002', object='text_completion', system_fingerprint=None, usage=CompletionUsage(completion_tokens=16, prompt_tokens=54, total_tokens=70, completion_tokens_details=None, prompt_tokens_details=None)) 256\n",
      "Completion(id='cmpl-AUltXtPLYRT64RDMgcsgq0P41ohut', choices=[CompletionChoice(finish_reason='length', index=0, logprobs=None, text=' (There is no fraction). 3 45 200 600 300')], created=1731897311, model='davinci-002', object='text_completion', system_fingerprint=None, usage=CompletionUsage(completion_tokens=16, prompt_tokens=109, total_tokens=125, completion_tokens_details=None, prompt_tokens_details=None)) 4\n",
      "Completion(id='cmpl-AUltYZFMnWKsq1RrkjGd4vcO2WEux', choices=[CompletionChoice(finish_reason='length', index=0, logprobs=None, text=' 1. A)8 scoop of ice cream B)3 scoop of ice')], created=1731897312, model='davinci-002', object='text_completion', system_fingerprint=None, usage=CompletionUsage(completion_tokens=16, prompt_tokens=58, total_tokens=74, completion_tokens_details=None, prompt_tokens_details=None)) 4\n",
      "Completion(id='cmpl-AUltYVIKA7ZdXQMH2omfy4els3P9y', choices=[CompletionChoice(finish_reason='length', index=0, logprobs=None, text=' 2.4. At Ponderosa State Park in Idaho, there is')], created=1731897312, model='davinci-002', object='text_completion', system_fingerprint=None, usage=CompletionUsage(completion_tokens=16, prompt_tokens=44, total_tokens=60, completion_tokens_details=None, prompt_tokens_details=None)) 60\n",
      "Completion(id='cmpl-AUltZ3CNZE6efFIyHDpRNumCO5vKK', choices=[CompletionChoice(finish_reason='length', index=0, logprobs=None, text=' __________________________________________________________ The following day, Méliès leaves the house in the morning')], created=1731897313, model='davinci-002', object='text_completion', system_fingerprint=None, usage=CompletionUsage(completion_tokens=16, prompt_tokens=61, total_tokens=77, completion_tokens_details=None, prompt_tokens_details=None)) 16\n",
      "Completion(id='cmpl-AUltZ4vnGhYgEKktZ9855z8ENyLzx', choices=[CompletionChoice(finish_reason='length', index=0, logprobs=None, text=' (Do not need to calculate round off to the nearest whole number.)\\n\\nA.')], created=1731897313, model='davinci-002', object='text_completion', system_fingerprint=None, usage=CompletionUsage(completion_tokens=16, prompt_tokens=49, total_tokens=65, completion_tokens_details=None, prompt_tokens_details=None)) 845,640\n",
      "Completion(id='cmpl-AUltZY3PXGnWVrDQNl3BuOfamTSdM', choices=[CompletionChoice(finish_reason='length', index=0, logprobs=None, text=\" Given: Given: Given: Lester's present age is seven years less than twice\")], created=1731897313, model='davinci-002', object='text_completion', system_fingerprint=None, usage=CompletionUsage(completion_tokens=16, prompt_tokens=40, total_tokens=56, completion_tokens_details=None, prompt_tokens_details=None)) 24\n",
      "Completion(id='cmpl-AUltagmcdWQUDx5cURzS11JJEqBlc', choices=[CompletionChoice(finish_reason='stop', index=0, logprobs=None, text='')], created=1731897314, model='davinci-002', object='text_completion', system_fingerprint=None, usage=CompletionUsage(completion_tokens=None, prompt_tokens=57, total_tokens=57, completion_tokens_details=None, prompt_tokens_details=None)) 25\n",
      "Completion(id='cmpl-AUlta3eOm2ULTQqIbpjedXdnB9KU3', choices=[CompletionChoice(finish_reason='length', index=0, logprobs=None, text=' Provide response as an equation and a word equation.\\n\\nzz thanks soooo much this')], created=1731897314, model='davinci-002', object='text_completion', system_fingerprint=None, usage=CompletionUsage(completion_tokens=16, prompt_tokens=62, total_tokens=78, completion_tokens_details=None, prompt_tokens_details=None)) 80\n",
      "Completion(id='cmpl-AUlta4c9VXUB0qBztOfrmF8b7N2pA', choices=[CompletionChoice(finish_reason='length', index=0, logprobs=None, text='Victoria started working at an art academy where she got paid $650 per week and')], created=1731897314, model='davinci-002', object='text_completion', system_fingerprint=None, usage=CompletionUsage(completion_tokens=16, prompt_tokens=47, total_tokens=63, completion_tokens_details=None, prompt_tokens_details=None)) 2000\n",
      "Completion(id='cmpl-AUltbchZ5Ngcu7RsOEP5Cu5qUlq1A', choices=[CompletionChoice(finish_reason='length', index=0, logprobs=None, text=' a. $ 240.00 b. $ 280.00 c.')], created=1731897315, model='davinci-002', object='text_completion', system_fingerprint=None, usage=CompletionUsage(completion_tokens=16, prompt_tokens=59, total_tokens=75, completion_tokens_details=None, prompt_tokens_details=None)) 800\n",
      "Completion(id='cmpl-AUltbTI5NajcFZwVuTOLIpr2Zg8pl', choices=[CompletionChoice(finish_reason='length', index=0, logprobs=None, text=' What strategy can you use to solve this problem?\\n\\nNumber of words in the poem')], created=1731897315, model='davinci-002', object='text_completion', system_fingerprint=None, usage=CompletionUsage(completion_tokens=16, prompt_tokens=81, total_tokens=97, completion_tokens_details=None, prompt_tokens_details=None)) 1600\n",
      "Completion(id='cmpl-AUltbwhqyGSES1SNQrNZtjNqGpCSg', choices=[CompletionChoice(finish_reason='stop', index=0, logprobs=None, text='')], created=1731897315, model='davinci-002', object='text_completion', system_fingerprint=None, usage=CompletionUsage(completion_tokens=None, prompt_tokens=52, total_tokens=52, completion_tokens_details=None, prompt_tokens_details=None)) 20\n",
      "Completion(id='cmpl-AUltcQu0wZLwB3ka7kSHuPKHDeboT', choices=[CompletionChoice(finish_reason='length', index=0, logprobs=None, text=\" Using McNuggets' information and arithmetic operations to solve each question. 3\")], created=1731897316, model='davinci-002', object='text_completion', system_fingerprint=None, usage=CompletionUsage(completion_tokens=16, prompt_tokens=60, total_tokens=76, completion_tokens_details=None, prompt_tokens_details=None)) 48\n",
      "Completion(id='cmpl-AUltc4f5DFdn5M3sNYcnPTsY84580', choices=[CompletionChoice(finish_reason='length', index=0, logprobs=None, text=' How many spinners do you choose? What is the smallest area your team could')], created=1731897316, model='davinci-002', object='text_completion', system_fingerprint=None, usage=CompletionUsage(completion_tokens=16, prompt_tokens=46, total_tokens=62, completion_tokens_details=None, prompt_tokens_details=None)) 196\n",
      "Completion(id='cmpl-AUltcIeJLUEJi6mCfsWWFEkgn82nu', choices=[CompletionChoice(finish_reason='length', index=0, logprobs=None, text=\" So with the expression for the width we're given 18 inches. For the\")], created=1731897316, model='davinci-002', object='text_completion', system_fingerprint=None, usage=CompletionUsage(completion_tokens=16, prompt_tokens=60, total_tokens=76, completion_tokens_details=None, prompt_tokens_details=None)) 15\n",
      "Completion(id='cmpl-AUltd3xYM1lRlBiBJXteVPIrKhrKw', choices=[CompletionChoice(finish_reason='length', index=0, logprobs=None, text=' 1. Jane Anderson Vocabulary Capitalize proper nouns. West even though it is')], created=1731897317, model='davinci-002', object='text_completion', system_fingerprint=None, usage=CompletionUsage(completion_tokens=16, prompt_tokens=36, total_tokens=52, completion_tokens_details=None, prompt_tokens_details=None)) 72\n",
      "Completion(id='cmpl-AUltdWHlw1zqIxV7rshEhD4Nh9gbl', choices=[CompletionChoice(finish_reason='length', index=0, logprobs=None, text=\" (Papi Calot most likely doesn't need this many potatoes. Ignore the\")], created=1731897317, model='davinci-002', object='text_completion', system_fingerprint=None, usage=CompletionUsage(completion_tokens=16, prompt_tokens=77, total_tokens=93, completion_tokens_details=None, prompt_tokens_details=None)) 141\n",
      "Completion(id='cmpl-AUlteeFaFH8cppu7gPsiJfiuYI1IH', choices=[CompletionChoice(finish_reason='length', index=0, logprobs=None, text=' · Look at clue 7. · Read the question. · What information do')], created=1731897318, model='davinci-002', object='text_completion', system_fingerprint=None, usage=CompletionUsage(completion_tokens=16, prompt_tokens=45, total_tokens=61, completion_tokens_details=None, prompt_tokens_details=None)) 48\n",
      "Completion(id='cmpl-AUltekCxOJILgR99GrWzFVR6QgioI', choices=[CompletionChoice(finish_reason='length', index=0, logprobs=None, text=' ( Answer: The medical care cost minus the patient insurance minus the company insurance=$')], created=1731897318, model='davinci-002', object='text_completion', system_fingerprint=None, usage=CompletionUsage(completion_tokens=16, prompt_tokens=62, total_tokens=78, completion_tokens_details=None, prompt_tokens_details=None)) 60\n",
      "Completion(id='cmpl-AUltfDvYNljM1PZGYVHgoknowyflv', choices=[CompletionChoice(finish_reason='length', index=0, logprobs=None, text=' Select your answer and \"go\". A. 13 times B. 62')], created=1731897319, model='davinci-002', object='text_completion', system_fingerprint=None, usage=CompletionUsage(completion_tokens=16, prompt_tokens=55, total_tokens=71, completion_tokens_details=None, prompt_tokens_details=None)) 20\n",
      "Completion(id='cmpl-AUltfVUGRvUvNUUm4jrdTbtdSV2cD', choices=[CompletionChoice(finish_reason='length', index=0, logprobs=None, text=' Show how you got your answer.\\n\\nHere is the problem, and my attempted at')], created=1731897319, model='davinci-002', object='text_completion', system_fingerprint=None, usage=CompletionUsage(completion_tokens=16, prompt_tokens=54, total_tokens=70, completion_tokens_details=None, prompt_tokens_details=None)) 480\n",
      "Completion(id='cmpl-AUltfJiSs1TbkaXkHahMYJ4ac3pY1', choices=[CompletionChoice(finish_reason='length', index=0, logprobs=None, text=' Followed by: Oh come on!\\n\\nI just had a Splinter Cell Black')], created=1731897319, model='davinci-002', object='text_completion', system_fingerprint=None, usage=CompletionUsage(completion_tokens=16, prompt_tokens=59, total_tokens=75, completion_tokens_details=None, prompt_tokens_details=None)) 80\n",
      "Completion(id='cmpl-AUltgvjg7ZVZb3nandoN5I3HgiwH7', choices=[CompletionChoice(finish_reason='length', index=0, logprobs=None, text=' (A) 612 (B) 609 (C) 610 (')], created=1731897320, model='davinci-002', object='text_completion', system_fingerprint=None, usage=CompletionUsage(completion_tokens=16, prompt_tokens=40, total_tokens=56, completion_tokens_details=None, prompt_tokens_details=None)) 72\n",
      "Completion(id='cmpl-AUltgclQhBdftJQ1LCL8UyD7xNWWG', choices=[CompletionChoice(finish_reason='length', index=0, logprobs=None, text='  1.5  5.5  1.25 ')], created=1731897320, model='davinci-002', object='text_completion', system_fingerprint=None, usage=CompletionUsage(completion_tokens=16, prompt_tokens=66, total_tokens=82, completion_tokens_details=None, prompt_tokens_details=None)) 1\n",
      "Completion(id='cmpl-AUltgFeQp3YRCI6Ca9rNsfYclQnGP', choices=[CompletionChoice(finish_reason='length', index=0, logprobs=None, text=' (in l00)\\n\\nTravel through Colorado using tall buildings in the following paragraph.')], created=1731897320, model='davinci-002', object='text_completion', system_fingerprint=None, usage=CompletionUsage(completion_tokens=16, prompt_tokens=57, total_tokens=73, completion_tokens_details=None, prompt_tokens_details=None)) 80\n",
      "Completion(id='cmpl-AUlthpsxqDLyeWrLwwMZ6bQ89Byy7', choices=[CompletionChoice(finish_reason='length', index=0, logprobs=None, text=\" Hey everyone, welcome to another Math video. I'm Mr. Mangesh.\")], created=1731897321, model='davinci-002', object='text_completion', system_fingerprint=None, usage=CompletionUsage(completion_tokens=16, prompt_tokens=36, total_tokens=52, completion_tokens_details=None, prompt_tokens_details=None)) 72\n"
     ]
    }
   ],
   "source": [
    "get_answers(question_type='new_question', num_questions=100)"
   ]
  }
 ],
 "metadata": {
  "kernelspec": {
   "display_name": "Python 3 (ipykernel)",
   "language": "python",
   "name": "python3"
  },
  "language_info": {
   "codemirror_mode": {
    "name": "ipython",
    "version": 3
   },
   "file_extension": ".py",
   "mimetype": "text/x-python",
   "name": "python",
   "nbconvert_exporter": "python",
   "pygments_lexer": "ipython3",
   "version": "3.12.0"
  }
 },
 "nbformat": 4,
 "nbformat_minor": 5
}
