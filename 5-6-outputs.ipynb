{
 "cells": [
  {
   "cell_type": "code",
   "execution_count": 2,
   "id": "e31d8502-cce5-45d9-ba85-b0955f32bac8",
   "metadata": {},
   "outputs": [],
   "source": [
    "import pickle"
   ]
  },
  {
   "cell_type": "code",
   "execution_count": 3,
   "id": "a5ea1a8c-cbf8-4697-90c0-a36a872654d9",
   "metadata": {},
   "outputs": [],
   "source": [
    "y_orig = pickle.load(open(\"FINAL35-orig2.obj\", \"rb\"))\n",
    "y_new = pickle.load(open(\"FINAL35-new2.obj\", \"rb\"))"
   ]
  },
  {
   "cell_type": "code",
   "execution_count": 7,
   "id": "0a3a2165-ee87-4265-ab2e-48f91c3da2d2",
   "metadata": {},
   "outputs": [],
   "source": [
    "import json\n",
    "#open dataset and store it as a JSON object\n",
    "with open('../GSM-IC/GSM-IC_mstep.json', 'r') as file:\n",
    "    questions = json.load(file)\n",
    "with open('../GSM-IC/GSM-IC_2step.json', 'r') as file:\n",
    "    questions2 = json.load(file)\n",
    "    #initialize the Groq client. This allows us to query Llama3 (or another model) from my Groq account\n",
    "\n",
    "all_questions = []\n",
    "all_questions.extend(questions2)\n",
    "all_questions.extend(questions)\n",
    "x = []\n",
    "for steps in [2, 3, 4, 5, 6]:\n",
    "    x.extend([i for i in all_questions if i['n_steps'] == steps][:500])"
   ]
  },
  {
   "cell_type": "code",
   "execution_count": 11,
   "id": "d3620d8f-8908-4ce9-81f5-cc7a10a62637",
   "metadata": {},
   "outputs": [
    {
     "name": "stdout",
     "output_type": "stream",
     "text": [
      "list index out of range\n",
      "list index out of range\n",
      "list index out of range\n",
      "list index out of range\n",
      "list index out of range\n",
      "list index out of range\n",
      "list index out of range\n",
      "list index out of range\n",
      "list index out of range\n",
      "list index out of range\n",
      "list index out of range\n"
     ]
    },
    {
     "data": {
      "text/plain": [
       "<matplotlib.legend.Legend at 0x1324d5610>"
      ]
     },
     "execution_count": 11,
     "metadata": {},
     "output_type": "execute_result"
    },
    {
     "data": {
      "image/png": "[encoded data removed]",
      "text/plain": [
       "<Figure size 640x480 with 1 Axes>"
      ]
     },
     "metadata": {},
     "output_type": "display_data"
    }
   ],
   "source": [
    "import collections\n",
    "import matplotlib.pyplot as plt\n",
    "def calculate_length_accs(y):\n",
    "    lns = collections.defaultdict(list)\n",
    "    for q, a in zip(x, y):\n",
    "        try:\n",
    "            correct_answer = q['answer']\n",
    "            llm_answer = a.split(\"he answer is\")[1]\n",
    "            correct = correct_answer in llm_answer\n",
    "\n",
    "            lns[len(a)].append(correct)\n",
    "        except Exception as e:\n",
    "            print(e)\n",
    "    return lns\n",
    "\n",
    "lns_orig = calculate_length_accs(y_orig)\n",
    "lns_new = calculate_length_accs(y_new)\n",
    "from statistics import mean\n",
    "bin_size = 50\n",
    "xs = []\n",
    "yo, yn = [], []\n",
    "for i in range(0, 1000, bin_size):\n",
    "    xs.append(i)\n",
    "    po = []\n",
    "    pn = []\n",
    "    for k in range(i, i + bin_size):\n",
    "        po.extend(lns_orig[k] + lns_new[k])\n",
    "        # pn.extend(lns_new[k])\n",
    "    if po: yo.append(mean(po))\n",
    "    elif yo: yo.append(yo[-1])\n",
    "    else: yo.append(0)\n",
    "    # if pn: yn.append(mean(pn))\n",
    "    # elif yn: yn.append(yn[-1])\n",
    "    # else: yn.append(0)\n",
    "\n",
    "plt.plot(xs, yo, label='orig')\n",
    "# plt.plot(xs, yn, label='new')\n",
    "plt.legend()"
   ]
  },
  {
   "cell_type": "code",
   "execution_count": 23,
   "id": "8f23d1e4-a8a0-4922-a2c3-ed034ca42f32",
   "metadata": {},
   "outputs": [
    {
     "name": "stdout",
     "output_type": "stream",
     "text": [
      "{'original_question': 'Annie brought 20 brownies to school.  She gave half of them to the school administrator to put in the faculty lounge.  Of the remaining brownies, she gave half to her best friend, Carl, and another two to her friend, Simon.  How many brownies did she have left?', 'answer': '3', 'new_question': \"Annie brought 20 brownies to school. She gave half of them to the school administrator to put in the faculty lounge. Of the remaining brownies, she gave half to her best friend, Carl, and another two to her friend, Simon. Annie's mother got 300 more cookies than Carl on that day. How many brownies did Annie have left?\", 'n_steps': 5, 'role': \"Annie's mother\", 'number': '300', 'sentence_template': '{role} got {number} more cookies than Carl on that day.', 'role_label': 'overlapped', 'number_label': 'out_range', 'sentence_label': 'in_topic'}\n",
      "After giving away half to the school administrator, Annie had 10 brownies left. \n",
      "Then after giving half to Carl, she had 5 brownies left. \n",
      "After giving away 2 more brownies to Simon, she had 3 brownies left. \n",
      "\n",
      "The answer is 3.\n",
      "Annie had 6 brownies left.\n",
      "The answer is 6.\n"
     ]
    }
   ],
   "source": [
    "# Inspect a specific output\n",
    "print(x[1504], y_orig[1504], y_new[1504], sep=\"\\n\")"
   ]
  }
 ],
 "metadata": {
  "kernelspec": {
   "display_name": "Python 3 (ipykernel)",
   "language": "python",
   "name": "python3"
  },
  "language_info": {
   "codemirror_mode": {
    "name": "ipython",
    "version": 3
   },
   "file_extension": ".py",
   "mimetype": "text/x-python",
   "name": "python",
   "nbconvert_exporter": "python",
   "pygments_lexer": "ipython3",
   "version": "3.12.0"
  }
 },
 "nbformat": 4,
 "nbformat_minor": 5
}
